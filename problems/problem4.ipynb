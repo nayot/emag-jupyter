{
 "cells": [
  {
   "cell_type": "markdown",
   "id": "b78783c7-732b-460f-b2f6-68451ce3d338",
   "metadata": {},
   "source": [
    "![](https://raw.githubusercontent.com/nayot/emag-jupyter/refs/heads/main/pics/problem_banner.webp)\n",
    "\n",
    "# Problem Set for Class 04\n",
    "\n",
    "**คำสั่ง**\n",
    "1. ให้นิสิตทำโจทย์ทุกข้อใน Jupyter Lab Notebook นี้ โดยการเขียน code คำตอบ\n",
    "2. การส่งงาน ให้ส่งด้วยการ upload ไฟล์ผ่านระบบ Google Classroom เท่านั้น โดยต้องกดยืนยันการส่ง \"Done\" ทุกครั้ง\n",
    "3. การส่งงาน ให้ส่งไฟล์เดียวตาม format ที่กำหนดเท่านั้น หากนิสิตส่งมากกว่า 1 ไฟล์ ระบบจะไม่สามารถตรวจให้คะแนนได้\n",
    "4. Format ชื่อไฟล์ต้องเป็นไปตามนี้เท่านั้น\n",
    "\n",
    "**Filename Format**\n",
    "\n",
    "<รหัสนิสิต>_problem4.ipynb\n",
    "\n",
    "เช่น\n",
    "\n",
    "65051234_problem4.ipynb\n",
    "\n",
    "คำเตือน: การตั้ังชื่อไฟล์ไม่เป็นไปตาม format ดังกล่าว หรือตั้งชื่อไฟล์ผิด อาจทำให้นิสิตไม่ได้รับคะแนนสำหรับ Assignment นั้น ๆ เนื่องจากระบบจะไม่สามารถตรวจได้"
   ]
  },
  {
   "cell_type": "markdown",
   "id": "5ca29dc4-bb6f-49af-a9c5-f82882eeabe2",
   "metadata": {},
   "source": [
    "## Problem 1\n",
    "จงเขียนโปรแกรมเพื่อหาผลรวมของจำนวนต่อไปนี้ (2 คะแนน)\n",
    "\n",
    "$$\\sum_{m=0}^{5}\\frac{1+(-1)^m}{m^2+1}$$"
   ]
  },
  {
   "cell_type": "code",
   "execution_count": null,
   "id": "ab840f70-9f6c-418c-a132-dbb5a0af2a3e",
   "metadata": {
    "nbgrader": {
     "grade": false,
     "grade_id": "problem_1",
     "locked": false,
     "schema_version": 3,
     "solution": true,
     "task": false
    }
   },
   "outputs": [],
   "source": [
    "import numpy as np\n",
    "\n",
    "def answer():\n",
    "    ### BEGIN SOLUTIONS\n",
    "    M = np.arange(0, 6)\n",
    "    total = 0\n",
    "    for m in M:\n",
    "        total += (1 + (-1)**m) / (m**2 + 1)\n",
    "\n",
    "    return total\n",
    "    ### END SOLUTIONS"
   ]
  },
  {
   "cell_type": "code",
   "execution_count": null,
   "id": "c6051577-a214-4021-bb0c-d742771b5fcb",
   "metadata": {
    "nbgrader": {
     "grade": true,
     "grade_id": "test_1",
     "locked": true,
     "points": 2,
     "schema_version": 3,
     "solution": false,
     "task": false
    }
   },
   "outputs": [],
   "source": [
    "# testing -- ห้ามแก้ไข Cell นี้โดยเด็ดขาด\n",
    "from IPython.display import display\n",
    "\n",
    "display(answer())\n",
    "\n",
    "### BEGIN HIDDEN TESTS\n",
    "assert 2.517 <= answer() <= 2.518 \n",
    "### END HIDDEN TESTS"
   ]
  },
  {
   "cell_type": "markdown",
   "id": "daa20e5c-ca04-4f98-a546-5459ebd67ea8",
   "metadata": {},
   "source": [
    "## Problem 2\n",
    "**การใช้ Sympy ในการคำนวณทางคณิตศาสตร์ ด้วยวิธี Symbolic Mathematics**\n",
    "\n",
    "**Problem 2.1** จงเขียนพจน์ (Expression) ทางคณิตศาสตร์ต่อไปนี้ โดยใช้ Sympy และเก็บไว้ใน \"ตัวแปร (Variable)\" f (1 คะแนน)\n",
    "$$x^2 + 2x + \\sqrt{\\sin(x)}$$\n",
    "**สังเกต**\n",
    "ข้อนี้ให้เก็บพจน์ดังกล่าวไว้ในตัวแปร f ไม่ใช่ฟังก์ชัน โปรดระวัง!\n"
   ]
  },
  {
   "cell_type": "code",
   "execution_count": null,
   "id": "e9738a09-713b-45b2-8bdb-52668f7ef7e7",
   "metadata": {
    "nbgrader": {
     "grade": false,
     "grade_id": "problem_2_1",
     "locked": false,
     "schema_version": 3,
     "solution": true,
     "task": false
    }
   },
   "outputs": [],
   "source": [
    "import sympy as smp\n",
    "### BEGIN SOLUTIONS\n",
    "x = smp.symbols('x', real=True)\n",
    "f = x**2 + 2 * x + smp.sqrt(smp.sin(x))\n",
    "### END SOLUTIONS"
   ]
  },
  {
   "cell_type": "code",
   "execution_count": null,
   "id": "76c731a5-9d03-4486-a1d3-bc5d137a82a0",
   "metadata": {
    "nbgrader": {
     "grade": true,
     "grade_id": "test_2_1",
     "locked": true,
     "points": 1,
     "schema_version": 3,
     "solution": false,
     "task": false
    }
   },
   "outputs": [],
   "source": [
    "# Testing - ห้ามแก้ไข Cell นี้โดยเด็ดขาด\n",
    "from IPython.display import display\n",
    "display(\"Your answer: \", f)\n",
    "### BEGIN HIDDEN TESTS\n",
    "import sympy as smp\n",
    "x = smp.symbols('x', real=True)\n",
    "ff = x**2 + 2 * x + smp.sqrt(smp.sin(x))\n",
    "assert f == ff\n",
    "### END HIDDEN TESTS"
   ]
  },
  {
   "cell_type": "markdown",
   "id": "4f75244b-f8de-4afc-8faf-290667ff9415",
   "metadata": {},
   "source": [
    "**Problem 2.2** จงแทนค่า $x=\\pi / 4$ ลงในพจน์ดังกล่าวในฟังก์ชัน ans() และ return ค่าคำตอบที่เป็นตัวเลข (Numberical value เช่น 3.1159) เท่านั้น (1 คะแนน)"
   ]
  },
  {
   "cell_type": "code",
   "execution_count": null,
   "id": "54c5d4a7-4952-4ad0-b528-7ba507c2b67f",
   "metadata": {
    "nbgrader": {
     "grade": false,
     "grade_id": "problem_2_2",
     "locked": false,
     "schema_version": 3,
     "solution": true,
     "task": false
    }
   },
   "outputs": [],
   "source": [
    "def ans():\n",
    "    ### BEGIN SOLUTIONS\n",
    "    y = f.subs({x:smp.pi/4})\n",
    "    return y.evalf()\n",
    "    ### END SOLUTIONS"
   ]
  },
  {
   "cell_type": "code",
   "execution_count": null,
   "id": "d85bd4dd-687a-4bc2-954b-38bd61a59705",
   "metadata": {
    "nbgrader": {
     "grade": true,
     "grade_id": "test_2_2",
     "locked": true,
     "points": 1,
     "schema_version": 3,
     "solution": false,
     "task": false
    }
   },
   "outputs": [],
   "source": [
    "# Testing -- ห้ามแก้ไข Cell นี้โดยเด็ดขาด\n",
    "print(f\"Your answer: {ans()}\")\n",
    "\n",
    "### BEGIN HIDDEN TESTS\n",
    "from scipy.constants import pi\n",
    "from numpy import sin, sqrt, abs\n",
    "xv = pi / 4\n",
    "correct_ans = xv**2 + 2 * xv + sqrt(sin(xv))\n",
    "# print(f\"Your answer: {ans()}\")\n",
    "print(f\"Correct answer: {correct_ans}\")\n",
    "assert abs(ans() - correct_ans) <= 1e-6\n",
    "### END HIDDEN TESTS"
   ]
  },
  {
   "cell_type": "markdown",
   "id": "34a06e1c-c26f-433a-bc07-baa440c8b242",
   "metadata": {},
   "source": [
    "**Problem 2.3** จงหาอนุพันธ์ (Derivative) ของ f และแทนค่า $x=0.5$ จากนั้น return คำตอบที่เป็นตัวเลขเท่าน้้น (Numerical value) (2 คะแนน)"
   ]
  },
  {
   "cell_type": "code",
   "execution_count": null,
   "id": "bd7b5c07-b7a1-4403-be61-ddff98241414",
   "metadata": {
    "nbgrader": {
     "grade": false,
     "grade_id": "problem_2_3",
     "locked": false,
     "schema_version": 3,
     "solution": true,
     "task": false
    }
   },
   "outputs": [],
   "source": [
    "def ans():\n",
    "    ### BEGIN SOLUTIONS\n",
    "    x = smp.symbols('x', real=True)\n",
    "    f = x**2 + 2 * x + smp.sqrt(smp.sin(x))\n",
    "    dfdx = smp.diff(f, x)\n",
    "    \n",
    "    return dfdx.subs({x:0.5}).evalf()\n",
    "    ### END SOLUTIONS"
   ]
  },
  {
   "cell_type": "code",
   "execution_count": null,
   "id": "e26c2372-5267-4211-92ed-b5c70a6ae099",
   "metadata": {
    "nbgrader": {
     "grade": true,
     "grade_id": "ans_2_3",
     "locked": true,
     "points": 2,
     "schema_version": 3,
     "solution": false,
     "task": false
    }
   },
   "outputs": [],
   "source": [
    "# Testing -- ห้ามแก้ไข Cell นี้โดยเด็ดขาด\n",
    "print(f\"Your answer: {ans()}\")\n",
    "\n",
    "### BEGIN HIDDEN TESTS\n",
    "x = smp.symbols('x', real=True)\n",
    "f = x**2 + 2 * x + smp.sqrt(smp.sin(x))\n",
    "dfdx = smp.diff(f, x)\n",
    "correct_ans = dfdx.subs({x:0.5}).evalf()\n",
    "\n",
    "#print(f\"Your answer: {ans()}\")\n",
    "print(f\"Correct answer: {correct_ans}\")\n",
    "assert abs(ans() - correct_ans) <= 1e-6\n",
    "### END HIDDEN TESTS"
   ]
  },
  {
   "cell_type": "markdown",
   "id": "a83b03fd-8e7d-4207-837e-9099eabf7159",
   "metadata": {},
   "source": [
    "### Problem 3 \n",
    "**Problem 3.1** จงใช้ Sympy ในการหาอินทิกรัลแบบไม่จำกัดเขต (Indefinite Integral) ต่อไปนี้ (2 คะแนน)\n",
    "$$\\int x^2(x^3+1)^{3/2}\\, dx$$"
   ]
  },
  {
   "cell_type": "code",
   "execution_count": null,
   "id": "196e1128-0f6e-45fc-9c51-7d36c9f94020",
   "metadata": {
    "nbgrader": {
     "grade": false,
     "grade_id": "problem_3_1",
     "locked": false,
     "schema_version": 3,
     "solution": true,
     "task": false
    }
   },
   "outputs": [],
   "source": [
    "import sympy as smp\n",
    "def ans():\n",
    "    ### BEGIN SOLUTIONS\n",
    "    x = smp.symbols('x', real=True)\n",
    "    f = x**2 * (x**3 + 1)**smp.Rational(3, 2)\n",
    "    return smp.integrate(f, x)\n",
    "    ### END SOLUTIONS"
   ]
  },
  {
   "cell_type": "code",
   "execution_count": null,
   "id": "a8437eb9-c506-4458-9d35-c9ba09da467a",
   "metadata": {
    "nbgrader": {
     "grade": true,
     "grade_id": "test_3_1",
     "locked": true,
     "points": 2,
     "schema_version": 3,
     "solution": false,
     "task": false
    }
   },
   "outputs": [],
   "source": [
    "# Testing -- ห้ามแก้ไข Cell ต่อไปนี้โดยเด็ดขาด\n",
    "from IPython.display import display\n",
    "display(\"Your answer: \", ans())\n",
    "\n",
    "### BEGIN HIDDEN TESTS\n",
    "x = smp.symbols('x', real=True)\n",
    "f1 = x**2 * (x**3 + 1)**(3/2)\n",
    "f2 = x**2 * (x**3 + 1)**smp.Rational(3, 2)\n",
    "ans1 = smp.integrate(f1, x)\n",
    "ans2 = smp.integrate(f2, x)\n",
    "\n",
    "#display(\"Your answer: \", ans())\n",
    "display(\"Correct answer:\", ans2)\n",
    "\n",
    "assert (ans() == ans1) or (ans() == ans2)\n",
    "### END HIDDEN TESTS"
   ]
  },
  {
   "cell_type": "markdown",
   "id": "1fbdc138-5aae-4446-9ee1-660cb7b06b73",
   "metadata": {},
   "source": [
    "**Problem 3.2** จงใช้ Sympy ในการหาอินทิกรัลแบบจำกัดเขต (Definite Integral) ต่อไปนี้ (2 คะแนน)\n",
    "$$\\int_{-1}^{1} x^2(x^3+1)^{3/2}\\, dx$$"
   ]
  },
  {
   "cell_type": "code",
   "execution_count": null,
   "id": "22b33bdf-3953-47d3-8c89-215cad640789",
   "metadata": {
    "nbgrader": {
     "grade": false,
     "grade_id": "problem_3_2",
     "locked": false,
     "schema_version": 3,
     "solution": true,
     "task": false
    }
   },
   "outputs": [],
   "source": [
    "import sympy as smp\n",
    "def ans():\n",
    "    ### BEGIN SOLUTIONS\n",
    "    x = smp.symbols('x', real=True)\n",
    "    f = x**2 * (x**3 + 1)**smp.Rational(3, 2)\n",
    "    return smp.integrate(f, [x, -1, 1])\n",
    "    ### END SOLUTIONS"
   ]
  },
  {
   "cell_type": "code",
   "execution_count": null,
   "id": "b1e9e161-7501-411c-bfa9-accd52f06064",
   "metadata": {
    "nbgrader": {
     "grade": true,
     "grade_id": "test_3_2",
     "locked": true,
     "points": 2,
     "schema_version": 3,
     "solution": false,
     "task": false
    }
   },
   "outputs": [],
   "source": [
    "# Testing -- ห้ามแก้ไข Cell ต่อไปนี้โดยเด็ดขาด\n",
    "from IPython.display import display\n",
    "display(\"Your answer: \", ans())\n",
    "\n",
    "### BEGIN HIDDEN TESTS\n",
    "x = smp.symbols('x', real=True)\n",
    "f = x**2 * (x**3 + 1)**smp.Rational(3, 2)\n",
    "ans1 = smp.integrate(f, [x, -1, 1])\n",
    "ans2 = ans1.evalf()\n",
    "display(\"Correct answer:\", ans1)\n",
    "\n",
    "assert (ans() == ans1) or (ans() == ans2)\n",
    "### END HIDDEN TESTS"
   ]
  },
  {
   "cell_type": "markdown",
   "id": "6be8d0b7-2526-47e8-9ea8-1fad2e9073f4",
   "metadata": {},
   "source": [
    "## Problem 4\n",
    "**Problem 4.1** จากฟังก์ชันต่อไปนี้ จงสร้างพจน์ด้านขวามือด้วย Sympy แล้วบรรจุไว้ในตัวแปร f (1 คะแนน)\n",
    "$$f(x)=\\frac{2}{\\sqrt{1+x^2}},\\quad x=[0, 2]$$"
   ]
  },
  {
   "cell_type": "code",
   "execution_count": null,
   "id": "a5358dba-96e3-4751-b5f1-d2ca59cd4969",
   "metadata": {
    "nbgrader": {
     "grade": false,
     "grade_id": "problem_4_1",
     "locked": false,
     "schema_version": 3,
     "solution": true,
     "task": false
    }
   },
   "outputs": [],
   "source": [
    "import sympy as smp\n",
    "\n",
    "### BEGIN SOLUTIONS\n",
    "x = smp.symbols('x', real=True)\n",
    "f = 2 / smp.sqrt(1 + x**2)\n",
    "### END SOLUTIONS"
   ]
  },
  {
   "cell_type": "code",
   "execution_count": null,
   "id": "e68b0451-be97-4238-95e3-bd90c0eff3ee",
   "metadata": {
    "nbgrader": {
     "grade": true,
     "grade_id": "test_4_1",
     "locked": true,
     "points": 1,
     "schema_version": 3,
     "solution": false,
     "task": false
    }
   },
   "outputs": [],
   "source": [
    "# Testing -- ห้ามแก้ไข Cell นี้โดยเด็ดขาด\n",
    "from IPython.display import display\n",
    "display(\"Your answer:\", f)\n",
    "\n",
    "### BEGIN HIDDEN TESTS\n",
    "import sympy as smp\n",
    "x = smp.symbols('x', real=True)\n",
    "f_ans = 2 / smp.sqrt(1 + x**2)\n",
    "display(\"Correct answer:\", f_ans)\n",
    "\n",
    "assert f == f_ans\n",
    "### END HIDDEN TESTS"
   ]
  },
  {
   "cell_type": "markdown",
   "id": "1ac5fce6-9eac-4f8f-badd-9c31072b1104",
   "metadata": {},
   "source": [
    "**Problem 4.2** จงแปลงพจน์ข้างต้นเป็น Numerical (Numpy) function: f_func(x) โดยใช้ lambdify() method ของ Sympy (2 คะแนน)"
   ]
  },
  {
   "cell_type": "code",
   "execution_count": null,
   "id": "849f57ca-9a79-42c3-948f-4e56bf08a2f6",
   "metadata": {
    "nbgrader": {
     "grade": false,
     "grade_id": "problem_4_2",
     "locked": false,
     "schema_version": 3,
     "solution": true,
     "task": false
    }
   },
   "outputs": [],
   "source": [
    "import sympy as smp\n",
    "### BEGIN SOLUTIONS\n",
    "x = smp.symbols('x', real=True)\n",
    "f = 2 / smp.sqrt(1 + x**2)\n",
    "# Lambdify\n",
    "f_func = smp.lambdify(x, f)\n",
    "### END SOLUTIONS"
   ]
  },
  {
   "cell_type": "code",
   "execution_count": null,
   "id": "65d83cf2-0d8d-481e-bde5-5fbac80703a8",
   "metadata": {
    "nbgrader": {
     "grade": true,
     "grade_id": "test_4_2",
     "locked": true,
     "points": 2,
     "schema_version": 3,
     "solution": false,
     "task": false
    }
   },
   "outputs": [],
   "source": [
    "# Testing -- ห้ามแก้ไข Cell นี้โดยเด็ดขาด\n",
    "print(f\"Your answer f_func(0.5) = {f_func(0.5)}\")\n",
    "\n",
    "### BEGIN HIDDEN TESTS\n",
    "x = smp.symbols('x', real=True)\n",
    "f = 2 / smp.sqrt(1 + x**2)\n",
    "# Lambdify\n",
    "f_ans = smp.lambdify(x, f)\n",
    "print(f\"Correct answer f_func(0.5) = {f_ans(0.5)}\")\n",
    "\n",
    "assert f_func(0.5) == f_ans(0.5)\n",
    "assert f_func(-0.5) == f_ans(-0.5)\n",
    "assert f_func(15) == f_ans(15)\n",
    "\n",
    "### END HIDDEN TESTS"
   ]
  },
  {
   "cell_type": "markdown",
   "id": "5c35b604-6d7b-4461-9aca-f0b4e6c53399",
   "metadata": {},
   "source": [
    "**Problem 4.3** จงกพล็อตกราฟของฟังก์ชัน f_func(x) ในช่วง $x=[0, 2]$ (2 คะแนน)"
   ]
  },
  {
   "cell_type": "code",
   "execution_count": null,
   "id": "778ea361-7ab0-4faa-9815-4d68109c5aed",
   "metadata": {
    "nbgrader": {
     "grade": false,
     "grade_id": "problem_4_3",
     "locked": false,
     "schema_version": 3,
     "solution": true,
     "task": false
    }
   },
   "outputs": [],
   "source": [
    "import matplotlib.pyplot as plt\n",
    "import numpy as np\n",
    "# อย่าลืม return True\n",
    "\n",
    "def plot_func():\n",
    "    ### BEGIN SOLUTIONS\n",
    "    x = np.linspace(0, 2, 100)\n",
    "    y = f_func(x)\n",
    "    plt.plot(x, y)\n",
    "    plt.xlabel(\"x\")\n",
    "    plt.ylabel(\"y\")\n",
    "    plt.show()\n",
    "\n",
    "    return True\n",
    "    ### END SOLUTIONS"
   ]
  },
  {
   "cell_type": "code",
   "execution_count": null,
   "id": "857e6b98-f3e2-442a-b387-689fc4cd3a54",
   "metadata": {
    "nbgrader": {
     "grade": true,
     "grade_id": "test_4_3",
     "locked": true,
     "points": 2,
     "schema_version": 3,
     "solution": false,
     "task": false
    }
   },
   "outputs": [],
   "source": [
    "# Testing -- ห้ามแก้ไข Cellนี้โดยเด็ดขาด\n",
    "assert plot_func()"
   ]
  }
 ],
 "metadata": {
  "kernelspec": {
   "display_name": "Python 3 (ipykernel)",
   "language": "python",
   "name": "python3"
  },
  "language_info": {
   "codemirror_mode": {
    "name": "ipython",
    "version": 3
   },
   "file_extension": ".py",
   "mimetype": "text/x-python",
   "name": "python",
   "nbconvert_exporter": "python",
   "pygments_lexer": "ipython3",
   "version": "3.12.7"
  }
 },
 "nbformat": 4,
 "nbformat_minor": 5
}
