{
 "cells": [
  {
   "cell_type": "markdown",
   "id": "18bf62df-9d2a-4907-b932-3f5ba27c7bb0",
   "metadata": {},
   "source": [
    "![](https://raw.githubusercontent.com/nayot/emag-jupyter/refs/heads/main/pics/problem_banner.webp)\n",
    "\n",
    "# Problem Set for Class 03\n",
    "\n",
    "**คำสั่ง**\n",
    "1. ให้นิสิตทำโจทย์ทุกข้อใน Jupyter Lab Notebook นี้ โดยการเขียน code คำตอบ\n",
    "2. การส่งงาน ให้ส่งด้วยการ upload ไฟล์ผ่านระบบ Google Classroom เท่านั้น โดยต้องกดยืนยันการส่ง \"Done\" ทุกครั้ง\n",
    "3. การส่งงาน ให้ส่งไฟล์เดียวตาม format ที่กำหนดเท่านั้น หากนิสิตส่งมากกว่า 1 ไฟล์ ระบบจะไม่สามารถตรวจให้คะแนนได้\n",
    "4. Format ชื่อไฟล์ต้องเป็นไปตามนี้เท่านั้น\n",
    "\n",
    "**Filename Format**\n",
    "\n",
    "<รหัสนิสิต>_problem3.ipynb\n",
    "\n",
    "เช่น\n",
    "\n",
    "65051234_problem3.ipynb\n",
    "\n",
    "คำเตือน: การตั้ังชื่อไฟล์ไม่เป็นไปตาม format ดังกล่าว หรือตั้งชื่อไฟล์ผิด อาจทำให้นิสิตไม่ได้รับคะแนนสำหรับ Assignment นั้น ๆ เนื่องจากระบบจะไม่สามารถตรวจได้"
   ]
  },
  {
   "cell_type": "markdown",
   "id": "b726ead3-dd87-4ef3-8e15-51b2c57e5e05",
   "metadata": {},
   "source": [
    "### Problem 1"
   ]
  },
  {
   "cell_type": "code",
   "execution_count": null,
   "id": "4318d5c7-aa8f-47d4-9134-2dfe1bdd12ec",
   "metadata": {},
   "outputs": [],
   "source": []
  }
 ],
 "metadata": {
  "kernelspec": {
   "display_name": "Python 3 (ipykernel)",
   "language": "python",
   "name": "python3"
  },
  "language_info": {
   "codemirror_mode": {
    "name": "ipython",
    "version": 3
   },
   "file_extension": ".py",
   "mimetype": "text/x-python",
   "name": "python",
   "nbconvert_exporter": "python",
   "pygments_lexer": "ipython3",
   "version": "3.12.7"
  }
 },
 "nbformat": 4,
 "nbformat_minor": 5
}
