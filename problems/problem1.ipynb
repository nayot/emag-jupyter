{
 "cells": [
  {
   "cell_type": "markdown",
   "id": "4c00fee5-e0cb-45be-ad2e-925c7cbbf55a",
   "metadata": {},
   "source": [
    "![](https://raw.githubusercontent.com/nayot/emag-jupyter/refs/heads/main/pics/problem_banner.webp)\n",
    "\n",
    "# Problem Set 1\n",
    "\n",
    "**คำสั่ง**\n",
    "1. ให้นิสิตทำโจทย์ทุกข้อใน Jupyter Lab Notebook นี้ โดยการเขียน code คำตอบ\n",
    "2. การส่งงาน ให้ส่งด้วยการ upload ไฟล์ผ่านระบบ Google Classroom เท่านั้น โดยต้องกดยืนยันการส่ง \"Done\" ทุกครั้ง\n",
    "3. การส่งงาน ให้ส่งไฟล์เดียวตาม format ที่กำหนดเท่านั้น หากนิสิตส่งมากกว่า 1 ไฟล์ ระบบจะไม่สามารถตรวจให้คะแนนได้\n",
    "4. Format ชื่อไฟล์ต้องเป็นไปตามนี้เท่านั้น\n",
    "\n",
    "**Filename Format**\n",
    "\n",
    "<รหัสนิสิต>.ipynb\n",
    "\n",
    "เช่น\n",
    "\n",
    "65051234.ipynb\n",
    "\n",
    "คำเตือน: การตั้ังชื่อไฟล์ไม่เป็นไปตาม format ดังกล่าว หรือตั้งชื่อไฟล์ผิด อาจทำให้นิสิตไม่ได้รับคะแนนสำหรับ Assignment นั้น ๆ เนื่องจากระบบจะไม่สามารถตรวจได้"
   ]
  },
  {
   "cell_type": "markdown",
   "id": "69bf3e82-50ad-4c3d-98b4-22ae3823c80a",
   "metadata": {},
   "source": [
    "### Problem 1\n",
    "\n",
    "กำหนดจุด $M(-1, 2, 1)$ และ $N(3, -2, -2)$\n",
    "\n",
    "#### Problem 1.1\n",
    "(1 คะแนน)\n",
    "\n",
    "จุดดังกล่าวอยู่ใน Octant ที่เท่าไร ให้นิสิต ระบุเลข Octant ใน Code ข้างล่างนี้ แทนที่คำว่า \"None\""
   ]
  },
  {
   "cell_type": "code",
   "execution_count": null,
   "id": "38d3592c-410c-4748-9afc-8554b97b4f04",
   "metadata": {
    "nbgrader": {
     "grade": false,
     "grade_id": "problem_1_1",
     "locked": false,
     "schema_version": 3,
     "solution": true,
     "task": false
    }
   },
   "outputs": [],
   "source": [
    "def problem_1_1():\n",
    "    # ใส่คำตอบตรงนี้\n",
    "    M_octant = None\n",
    "    N_octant = None\n",
    "\n",
    "    # BEGIN SOLUTION\n",
    "    M_octant = 2\n",
    "    N_Octant = 7\n",
    "    # END SOLUTION\n",
    "    return (M_octant, N_Octant)"
   ]
  },
  {
   "cell_type": "code",
   "execution_count": null,
   "id": "65fbdadb-9a4b-4bd9-ac8b-d51aefcf8dcd",
   "metadata": {
    "nbgrader": {
     "grade": true,
     "grade_id": "correct_problem_1_1",
     "locked": true,
     "points": 1,
     "schema_version": 3,
     "solution": false,
     "task": false
    }
   },
   "outputs": [],
   "source": [
    "# เรียกฟังก์ชัน เพื่อดูคำตอบของนิสิต\n",
    "problem_1_1()\n",
    "\n",
    "### BEGIN HIDDEN TESTS\n",
    "assert problem_1_1() == (2, 7)\n",
    "### END HIDDEN TESTS"
   ]
  },
  {
   "cell_type": "markdown",
   "id": "150c8ba1-886b-468c-b8dd-b21bb5ae7368",
   "metadata": {},
   "source": [
    "#### Problem 1.2\n",
    "จากจุด $M$ และ $N$ ข้างต้น จงหาเวคเตอร์ขจัด (Displacement Vector) $\\mathbf{R}_{MN}$"
   ]
  },
  {
   "cell_type": "code",
   "execution_count": null,
   "id": "96a05882-2124-403b-8a70-aef8d02515fd",
   "metadata": {
    "nbgrader": {
     "grade": false,
     "grade_id": "problem_1_2",
     "locked": false,
     "schema_version": 3,
     "solution": true,
     "task": false
    }
   },
   "outputs": [],
   "source": [
    "import sympy as smp\n",
    "\n",
    "def problem_1_2():\n",
    "    # Position Vector r_M and r_N\n",
    "    r_M = None\n",
    "    r_N = None\n",
    "    \n",
    "    # หา Displacement Vector\n",
    "    R_MN = None\n",
    "\n",
    "    #### BEGIN SOLUTION\n",
    "    # Position Vector r_M and r_N\n",
    "    r_M = smp.Matrix([-1, 2, 1])\n",
    "    r_N = smp.Matrix([3, -2, -2])\n",
    "    \n",
    "    # หา Displacement Vector\n",
    "    R_MN = r_N - r_M\n",
    "    #### END SOLUTION\n",
    "    return R_MN\n"
   ]
  },
  {
   "cell_type": "code",
   "execution_count": null,
   "id": "ccc9ae73-27ac-4bd7-a77e-d963eda2363c",
   "metadata": {
    "nbgrader": {
     "grade": true,
     "grade_id": "correct_problem_1_2",
     "locked": true,
     "points": 1,
     "schema_version": 3,
     "solution": false,
     "task": false
    }
   },
   "outputs": [],
   "source": [
    "problem_1_2()\n",
    "\n",
    "# BEGIN HIDDEN TESTS\n",
    "assert problem_1_2() == smp.Matrix([4, -4, -3])\n",
    "# END HIDDEN TESTS"
   ]
  },
  {
   "cell_type": "markdown",
   "id": "05a46c3d-0b96-4ae7-81a2-54e6fa6fcff6",
   "metadata": {},
   "source": [
    "#### Problem 1.3\n",
    "จงเขียนฟังก์ชันคำนวณหาระยะทาง (ปริมาณสเกลาร์) ระหว่างจุดสองจุด ที่อธิบายด้วยเวคเตอร์ตำแหน่ง $\\mathbf{r}_1$ และ $\\mathbf{r}_2$ โดยกำหนดให้่ฟังก์ชัน รับ input และ output ในรูปแบบดังนี้\n",
    "\n",
    "input: smp.Matrix([x, y, z]) โดยที่ x, y และ z คือตำแหน่งในระบบพิกัดฉาก\n",
    "\n",
    "output: float"
   ]
  },
  {
   "cell_type": "code",
   "execution_count": null,
   "id": "51546668-1e6c-4532-be24-4681e919b203",
   "metadata": {
    "nbgrader": {
     "grade": false,
     "grade_id": "problem_1_3",
     "locked": false,
     "schema_version": 3,
     "solution": true,
     "task": false
    }
   },
   "outputs": [],
   "source": [
    "# คำนวณระยะทางระหว่างจุด M และ N\n",
    "# r_M, r_N เป็น position vectors ที่อยู่ในรูป Sympy Matrix\n",
    "def distance(r_M, r_N):\n",
    "    ### BEGIN SOLUTION\n",
    "    R = r_N - r_M\n",
    "    dist = R.norm()\n",
    "    ### END SOLUTION\n",
    "    \n",
    "    return dist"
   ]
  },
  {
   "cell_type": "code",
   "execution_count": null,
   "id": "8fd593cf-4a72-4dde-b70e-f268457e83a2",
   "metadata": {
    "nbgrader": {
     "grade": true,
     "grade_id": "correct_problem_1_3",
     "locked": true,
     "points": 1,
     "schema_version": 3,
     "solution": false,
     "task": false
    }
   },
   "outputs": [],
   "source": [
    "# Test the function\n",
    "import sympy as smp\n",
    "\n",
    "r_M = smp.Matrix([0, 0, 0])\n",
    "r_N = smp.Matrix([1, 1, 1])\n",
    "\n",
    "assert distance(r_M, r_N) == smp.sqrt(3)\n",
    "# ถ้า run code นี้แล้วไม่มี error แสดงว่าคำตอบถูกต้อง\n",
    "\n",
    "### BEGIN HIDDEN TEST\n",
    "r_M = smp.Matrix([-1, 5.6, 4.8])\n",
    "r_N = smp.Matrix([3, -1, -1])\n",
    "assert 9.650 <= distance(r_M, r_N) <= 9.655\n",
    "### END HIDDEN TEST"
   ]
  },
  {
   "cell_type": "markdown",
   "id": "d5724f3a-cc13-4420-a512-e42e0afd78ca",
   "metadata": {},
   "source": [
    "### Problem 2\n",
    "หากมีสนามเวคเตอร์ $\\mathbf{S}$ ในระบบพิกัดฉาก ซึ่งอธิบายได้ด้วย\n",
    "\n",
    "$$\\mathbf{S}=\\frac{125}{(x-1)^2+(y-2)^2+(z+1)^2} \\left[(x-1)\\mathbf{a_x}+(y-2)\\mathbf{a_y}+(z+1)\\mathbf{a_z}\\right]$$\n",
    "\n",
    "#### Problem 2.1\n",
    "จงเขียน code เพื่อสร้างฟังก์ชัน S(r) ที่รับ input เป็นเวคเตอร์ตำแหน่ง และคำนวนณ output เป็นค่าของสนามเวคเตอร์ ณ ตำแหน่งนั้น"
   ]
  },
  {
   "cell_type": "code",
   "execution_count": null,
   "id": "bcbccd6c-4bca-409b-8d12-7367a75bbc23",
   "metadata": {
    "nbgrader": {
     "grade": false,
     "grade_id": "problem_2_1",
     "locked": false,
     "schema_version": 3,
     "solution": true,
     "task": false
    }
   },
   "outputs": [],
   "source": [
    "import sympy as smp\n",
    "def S(r):\n",
    "    # BEGIN SOLUTION\n",
    "    x, y, z = r\n",
    "    term1 = 125.0 / ((x - 1 )**2 + (y - 2)**2 + (z + 1)**2)\n",
    "    term2 = smp.Matrix([x - 1, y - 2, z + 1])\n",
    "    return term1 * term2\n",
    "    # END SOLUTION"
   ]
  },
  {
   "cell_type": "code",
   "execution_count": null,
   "id": "b0e277f6-f202-4133-bed9-c82100fed432",
   "metadata": {
    "nbgrader": {
     "grade": true,
     "grade_id": "correct_problem_2_1",
     "locked": true,
     "points": 1,
     "schema_version": 3,
     "solution": false,
     "task": false
    }
   },
   "outputs": [],
   "source": [
    "r = smp.Matrix([2, 4, 3])\n",
    "assert 27.276 <= S(r).norm() <= 27.278\n",
    "\n",
    "### BEGIN HIDDEN TEST ###\n",
    "r = smp.Matrix([-1, 0, 1])\n",
    "assert 36.083 <= S(r).norm() <= 36.085\n",
    "### END HIDDEN TEST ###"
   ]
  },
  {
   "cell_type": "markdown",
   "id": "70b386bd-7adc-4849-ba82-0f5eb8e51cfc",
   "metadata": {},
   "source": [
    "#### Problem 2.2\n",
    "จงหาสร้างฟังก์ชัน เพื่อคำนวณหาเวคเตอร์หนึ่งหน่วยที่มีทิศทางเช่นเดียวกับ $\\mathbf{S}$ ณ จุด $\\mathbf{r_p}$ ใด ๆ"
   ]
  },
  {
   "cell_type": "code",
   "execution_count": null,
   "id": "66780fdd-89c5-4297-9c8d-746478474949",
   "metadata": {
    "nbgrader": {
     "grade": false,
     "grade_id": "problem_2_2",
     "locked": false,
     "schema_version": 3,
     "solution": true,
     "task": false
    }
   },
   "outputs": [],
   "source": [
    "def a_S(r_p):\n",
    "    ### BEGIN SOLUTION\n",
    "    Sp = S(r_p)\n",
    "    return Sp / Sp.norm()\n",
    "    ### END SOLUTION"
   ]
  },
  {
   "cell_type": "code",
   "execution_count": null,
   "id": "a41e8e83-7e8f-49e6-a20b-57c1ed1ee6bb",
   "metadata": {
    "nbgrader": {
     "grade": true,
     "grade_id": "correct_problem_2_2",
     "locked": true,
     "points": 1,
     "schema_version": 3,
     "solution": false,
     "task": false
    }
   },
   "outputs": [],
   "source": [
    "import sympy as smp\n",
    "\n",
    "r_p = smp.Matrix([2, 4, 3])\n",
    "error = a_S(r_p) - smp.Matrix([0.218, 0.436, 0.873])\n",
    "assert error.norm() <= 1e-3\n",
    "# ถ้า run cell นี้แล้วไม่มี error แสดงว่า code ทำงานได้ถูกต้อง\n",
    "\n",
    "### BEGIN HIDDEN TESTS\n",
    "r_p = smp.Matrix([25.45, -12.03, 5.45])\n",
    "error = a_S(r_p) - smp.Matrix([0.845, -0.484, 0.223])\n",
    "assert error.norm() <= 1e-2\n",
    "### END HIDDEN TESTS\n"
   ]
  }
 ],
 "metadata": {
  "kernelspec": {
   "display_name": "Python 3 (ipykernel)",
   "language": "python",
   "name": "python3"
  },
  "language_info": {
   "codemirror_mode": {
    "name": "ipython",
    "version": 3
   },
   "file_extension": ".py",
   "mimetype": "text/x-python",
   "name": "python",
   "nbconvert_exporter": "python",
   "pygments_lexer": "ipython3",
   "version": "3.11.7"
  }
 },
 "nbformat": 4,
 "nbformat_minor": 5
}
