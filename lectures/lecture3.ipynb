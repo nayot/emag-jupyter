{
 "cells": [
  {
   "cell_type": "code",
   "execution_count": null,
   "id": "d44defb5-6c5f-4671-9d20-6b6d8c353a9d",
   "metadata": {
    "editable": true,
    "nbgrader": {
     "grade": false,
     "grade_id": "cell-0f37fa8c28f0581c",
     "locked": true,
     "schema_version": 3,
     "solution": false,
     "task": false
    },
    "slideshow": {
     "slide_type": ""
    },
    "tags": []
   },
   "outputs": [],
   "source": []
  },
  {
   "cell_type": "markdown",
   "id": "cabd5fd9-d869-49bc-a7d6-af611206c62b",
   "metadata": {
    "editable": false,
    "slideshow": {
     "slide_type": ""
    },
    "tags": []
   },
   "source": [
    "![](https://raw.githubusercontent.com/nayot/emag-jupyter/refs/heads/main/pics/lecture_banner.webp)\n",
    "# LECTURE 03 Coulomb's Law\n",
    "\n",
    "# 514336 Engineering Electromagnetic Field"
   ]
  },
  {
   "cell_type": "markdown",
   "id": "9c5cbdd8-7b0b-4e8f-99e9-aa349d41f0b1",
   "metadata": {
    "editable": false,
    "slideshow": {
     "slide_type": ""
    },
    "tags": []
   },
   "source": [
    "## กฎของคูลอมป์\n",
    "**ตัวอย่าง 2.1**\n",
    "กำหนดให้มีประจุ $Q=3\\times 10^{-4}~\\mathrm{C}$ วางอยู่ที่จุด $M(1, 2, 3)$ และประจุ $Q_2=-10^{-4}~\\mathrm{C}$ วางอยู่ที่จุด $N(2, 0, 5)$ ในสุญญากาศ จงหาแรงที่กระทำกับประจุ $Q_2$ เนื่องจากประจุ $Q_1$\n",
    "\n",
    "![](https://github.com/nayot/emag-jupyter/blob/main/pics/coulombs.png?raw=True)\n",
    "\n",
    "**หมายเหตุ** Code ต่อไปนี้มีการเรียกใช้ค่าคงที่ทางวิทยาศาสตร์จาก package scipy หากยังไม่มี ให้ !pip install scipy"
   ]
  },
  {
   "cell_type": "code",
   "execution_count": 7,
   "id": "6347c9b6-7886-4bf6-98ca-3852a5797dd6",
   "metadata": {
    "editable": false,
    "nbgrader": {
     "grade": false,
     "grade_id": "cell-8a62529a69805cad",
     "locked": true,
     "schema_version": 3,
     "solution": false,
     "task": false
    },
    "scrolled": true,
    "slideshow": {
     "slide_type": ""
    },
    "tags": []
   },
   "outputs": [],
   "source": [
    "import sympy as smp\n",
    "from scipy.constants import epsilon_0, pi"
   ]
  },
  {
   "cell_type": "code",
   "execution_count": null,
   "id": "dfd1a15b-50f6-4672-8581-954399926137",
   "metadata": {
    "editable": true,
    "slideshow": {
     "slide_type": ""
    },
    "tags": []
   },
   "outputs": [],
   "source": [
    "# กำหนด parameters ทุกตัว\n"
   ]
  },
  {
   "cell_type": "code",
   "execution_count": null,
   "id": "e7a317b1-142f-49f1-bfac-2eeb85557fdf",
   "metadata": {
    "editable": true,
    "slideshow": {
     "slide_type": ""
    },
    "tags": []
   },
   "outputs": [],
   "source": [
    "# หา Displacement Vector R_12\n"
   ]
  },
  {
   "cell_type": "code",
   "execution_count": null,
   "id": "7392fd27-5e0a-4418-a74e-d4fca4e35330",
   "metadata": {
    "editable": true,
    "slideshow": {
     "slide_type": ""
    },
    "tags": []
   },
   "outputs": [],
   "source": [
    "# หา Unit Vector a_12\n"
   ]
  },
  {
   "cell_type": "code",
   "execution_count": null,
   "id": "77d76ea6-a64c-4f81-852a-971ee0d697f0",
   "metadata": {
    "editable": true,
    "slideshow": {
     "slide_type": ""
    },
    "tags": []
   },
   "outputs": [],
   "source": [
    "# หาแรงจากกฎของคูลอมป์\n"
   ]
  },
  {
   "cell_type": "code",
   "execution_count": null,
   "id": "72eefb4c-d9d5-4eb4-84de-75a62df3c47b",
   "metadata": {
    "editable": true,
    "slideshow": {
     "slide_type": ""
    },
    "tags": []
   },
   "outputs": [],
   "source": [
    "# (optional) หาขนาดของแรง\n"
   ]
  },
  {
   "cell_type": "markdown",
   "id": "a5d1ac0f-0caa-48de-9976-ddd71c54d2b8",
   "metadata": {
    "editable": true,
    "slideshow": {
     "slide_type": ""
    },
    "tags": []
   },
   "source": [
    "### Activity 3.1\n",
    "จากโจทย์ในตัวอย่างที่ 2.1 จงหาแรงที่กระทำกับประจุ $Q_1$ เนื่องจากประจุ $Q_2$"
   ]
  },
  {
   "cell_type": "code",
   "execution_count": null,
   "id": "3814b0d3-ef1d-46f7-b5a9-2d25ee2dddb0",
   "metadata": {
    "editable": false,
    "slideshow": {
     "slide_type": ""
    },
    "tags": []
   },
   "outputs": [],
   "source": [
    "import sympy as smp\n",
    "from scipy.constants import epsilon_0, pi"
   ]
  },
  {
   "cell_type": "code",
   "execution_count": 14,
   "id": "58fe657e-8213-4655-b0ee-38f1ac7af3c9",
   "metadata": {
    "editable": true,
    "nbgrader": {
     "grade": false,
     "grade_id": "activity_3_1",
     "locked": false,
     "schema_version": 3,
     "solution": true,
     "task": false
    },
    "slideshow": {
     "slide_type": ""
    },
    "tags": []
   },
   "outputs": [],
   "source": [
    "def F_1():\n",
    "    ### BEGIN SOLUTIONS\n",
    "    Q1 = 3.0e-4\n",
    "    Q2 = -1e-4\n",
    "    r1 = smp.Matrix([1, 2, 3])\n",
    "    r2 = smp.Matrix([2, 0, 5])\n",
    "\n",
    "    R = r1 - r2\n",
    "    \n",
    "    return Q1 * Q2 / (4.0 * pi * epsilon_0) * R / R.norm()**3\n",
    "    ### END SOLUTIONS"
   ]
  },
  {
   "cell_type": "code",
   "execution_count": null,
   "id": "03318b48-8168-48f1-9f59-b7ebbb90ed0f",
   "metadata": {
    "editable": true,
    "slideshow": {
     "slide_type": ""
    },
    "tags": []
   },
   "outputs": [],
   "source": [
    "# ทดสอบ F_1()\n"
   ]
  },
  {
   "cell_type": "code",
   "execution_count": 17,
   "id": "2c2023a9-2725-443d-ad8e-6d4a2bf2b5fe",
   "metadata": {
    "editable": false,
    "nbgrader": {
     "grade": true,
     "grade_id": "test_3_1",
     "locked": true,
     "points": 1,
     "schema_version": 3,
     "solution": false,
     "task": false
    },
    "slideshow": {
     "slide_type": ""
    },
    "tags": []
   },
   "outputs": [],
   "source": [
    "# ห้ามแก้ไข Cell นี้โดยเด็ดขาด\n",
    "assert 29.957 <= F_1().norm() <= 29.959"
   ]
  },
  {
   "cell_type": "markdown",
   "id": "1172b4f6-b40f-41cd-946f-694f81a24174",
   "metadata": {
    "editable": true,
    "slideshow": {
     "slide_type": ""
    },
    "tags": []
   },
   "source": [
    "## 2.2 ความเข้มสนามไฟฟ้า\n",
    "สนามไฟฟ้า (Electric Field Intensity) เนื่องจากประจุแบบจุดที่วางอยู่ที่จุดกำเนิด\n",
    "\n",
    "$$\\mathbf{E(r)}=\\frac{Q}{4\\pi\\epsilon_0}\\frac{\\mathbf{r}}{|\\mathbf{r}|^3},\\qquad\\mathrm{V/m}$$\n",
    "\n",
    "เมื่อ $\\mathbf{r}$ คือ เวคเตอร์ตำแหน่งของจุดสังเกต\n",
    "\n",
    "สนามไฟฟ้า เนื่องจากประจุแบบจุดที่วางอยู่ที่จุดใด ๆ ซึ่งระบุโดย $\\mathbf{r'}$\n",
    "\n",
    "$$\\mathbf{E(r)}=\\frac{Q}{4\\pi\\epsilon_0}\\frac{\\mathbf{r-r'}}{|\\mathbf{r-r'}|^3}\\qquad\\mathrm{V/m}$$\n",
    "\n",
    "**ตัวอย่าง 2.2** จงหาสนามไฟฟ้า $\\mathbf{E}(x, y, z)$ เนื่องจากประจุแบบจุดขนาด $Q$ ที่วางอยู่ที่จุดกำเนิด ณ จุด $(x, y, z)$ ใด ๆ"
   ]
  },
  {
   "cell_type": "code",
   "execution_count": 50,
   "id": "65dab80e-49eb-48e8-9893-ad717230c3e5",
   "metadata": {
    "editable": true,
    "slideshow": {
     "slide_type": ""
    },
    "tags": []
   },
   "outputs": [],
   "source": [
    "import sympy as smp\n",
    "import scipy.constants as sp\n",
    "\n",
    "# กำหนดตัวแปร \"ต้น\" ต่าง ๆ ที่ใช้ใน sympy\n",
    "Q, x, y, z, pi, epsilon_0 = smp.symbols('Q x y z pi epsilon_0', real=True)"
   ]
  },
  {
   "cell_type": "code",
   "execution_count": 51,
   "id": "993ca308-4c21-4409-b548-b1f6d6a27aa6",
   "metadata": {
    "editable": true,
    "slideshow": {
     "slide_type": ""
    },
    "tags": []
   },
   "outputs": [
    {
     "data": {
      "text/latex": [
       "$\\displaystyle \\left[\\begin{matrix}x\\\\y\\\\z\\end{matrix}\\right]$"
      ],
      "text/plain": [
       "Matrix([\n",
       "[x],\n",
       "[y],\n",
       "[z]])"
      ]
     },
     "execution_count": 51,
     "metadata": {},
     "output_type": "execute_result"
    }
   ],
   "source": [
    "# position vector r ที่กำหนดจุดสังเกต\n",
    "\n"
   ]
  },
  {
   "cell_type": "code",
   "execution_count": 52,
   "id": "51103f5c-ac5b-4840-9705-731d07228c04",
   "metadata": {
    "editable": true,
    "slideshow": {
     "slide_type": ""
    },
    "tags": []
   },
   "outputs": [],
   "source": [
    "# สนามไฟฟ้า E จากกฎของคูลอมป์\n"
   ]
  },
  {
   "cell_type": "code",
   "execution_count": 56,
   "id": "e112bdfb-f136-43d7-8938-0fe4b814e8b3",
   "metadata": {
    "editable": true,
    "slideshow": {
     "slide_type": ""
    },
    "tags": []
   },
   "outputs": [],
   "source": [
    "# ทดลองแ ทนค่า เพื่อหาค่าที่เป็นตัวเลข (Numerical Values)\n"
   ]
  },
  {
   "cell_type": "markdown",
   "id": "8c45de80-9331-41ac-a561-6df34c3503d9",
   "metadata": {
    "editable": true,
    "slideshow": {
     "slide_type": ""
    },
    "tags": []
   },
   "source": [
    "### Activity 2.2\n",
    "จงปรับแก้ Code ข้างต้น เพื่อสร้างฟังก์ชัน E() ที่จะ return สนามไฟฟ้า ณ ตำแหน่ง $(x, y, z)$ ใด ๆ เนื่องจากประจุแบบจุดที่วางอยู่ ณ ตำแหน่ง $(x', y', z')$\n",
    "\n",
    "**หมายเหตุ** การที่กำหนดให้ต้องตอบในรูปฟังก์ชัน เพื่อประโยชน์ของการตรวจคำตอบอัตโนมัติ"
   ]
  },
  {
   "cell_type": "code",
   "execution_count": 1,
   "id": "dfdb1b05-d418-4d12-ac6b-230d7b0c4825",
   "metadata": {
    "editable": true,
    "slideshow": {
     "slide_type": ""
    },
    "tags": []
   },
   "outputs": [],
   "source": [
    "# เพื่อความสะดวกในการทดสอบ ยังไม่ต้องนำ Code ใส่ในฟังก์ชัน\n",
    "\n",
    "import sympy as smp\n",
    "# กำหนดตัวแปรต้นที่ต้องใช้\n",
    "Q, pi, epsilon_0 = smp.symbols('Q pi epsilon_0', real=True)\n",
    "x, y, z, xp, yp, zp = smp.symbols(\"x y z x' y' z'\", real=True)\n",
    "\n",
    "# YOUR CODE HERE\n"
   ]
  },
  {
   "cell_type": "code",
   "execution_count": 35,
   "id": "5b50d4aa-29c0-442b-aeca-b1d2216cbf68",
   "metadata": {
    "editable": true,
    "nbgrader": {
     "grade": false,
     "grade_id": "activity_2_2",
     "locked": false,
     "schema_version": 3,
     "solution": true,
     "task": false
    },
    "slideshow": {
     "slide_type": ""
    },
    "tags": []
   },
   "outputs": [],
   "source": [
    "import sympy as smp\n",
    "# เมื่อทดสอบจนเป็นที่พอใจแล้ว ให้นำ Code มาใส่ในฟังก์ชัน E() เพื่อให้ระบบสามารถตรวจได้\n",
    "def E():\n",
    "    Q, pi, epsilon_0 = smp.symbols('Q pi epsilon_0', real=True)\n",
    "    x, y, z, xp, yp, zp = smp.symbols(\"x y z x' y' z'\", real=True)\n",
    "\n",
    "    ### BEGIN SOLUTIONS\n",
    "    # เวคเตอร์ตำแหน่งที่จุดสังเกต\n",
    "    r = smp.Matrix([x, y, z])\n",
    "    \n",
    "    # เวคเตอร์ตำแหน่งของจุดที่ประจุอยู่\n",
    "    rp = smp.Matrix([xp, yp, zp])\n",
    "\n",
    "    # Displacement vector\n",
    "    R = r - rp\n",
    "\n",
    "    # หา E จากกฎของคูลอมป์\n",
    "    E = Q / (4 * pi * epsilon_0) * R / R.norm()**3\n",
    "    return E\n",
    "    ### END SOLUTIONS"
   ]
  },
  {
   "cell_type": "code",
   "execution_count": 29,
   "id": "54503cb3-7d75-4a3d-b519-698d16398ec6",
   "metadata": {},
   "outputs": [],
   "source": [
    "# Test calling E\n",
    "\n"
   ]
  },
  {
   "cell_type": "code",
   "execution_count": 30,
   "id": "34e477e9-8647-498b-8bbf-8b72f1439ece",
   "metadata": {
    "nbgrader": {
     "grade": true,
     "grade_id": "test_2_2",
     "locked": true,
     "points": 1,
     "schema_version": 3,
     "solution": false,
     "task": false
    }
   },
   "outputs": [
    {
     "data": {
      "text/latex": [
       "$\\displaystyle \\left[\\begin{matrix}\\frac{Q \\left(x - x'\\right)}{4 \\epsilon_{0} \\pi \\left(\\left(x - x'\\right)^{2} + \\left(y - y'\\right)^{2} + \\left(z - z'\\right)^{2}\\right)^{\\frac{3}{2}}}\\\\\\frac{Q \\left(y - y'\\right)}{4 \\epsilon_{0} \\pi \\left(\\left(x - x'\\right)^{2} + \\left(y - y'\\right)^{2} + \\left(z - z'\\right)^{2}\\right)^{\\frac{3}{2}}}\\\\\\frac{Q \\left(z - z'\\right)}{4 \\epsilon_{0} \\pi \\left(\\left(x - x'\\right)^{2} + \\left(y - y'\\right)^{2} + \\left(z - z'\\right)^{2}\\right)^{\\frac{3}{2}}}\\end{matrix}\\right]$"
      ],
      "text/plain": [
       "Matrix([\n",
       "[Q*(x - x')/(4*epsilon_0*pi*((x - x')**2 + (y - y')**2 + (z - z')**2)**(3/2))],\n",
       "[Q*(y - y')/(4*epsilon_0*pi*((x - x')**2 + (y - y')**2 + (z - z')**2)**(3/2))],\n",
       "[Q*(z - z')/(4*epsilon_0*pi*((x - x')**2 + (y - y')**2 + (z - z')**2)**(3/2))]])"
      ]
     },
     "metadata": {},
     "output_type": "display_data"
    }
   ],
   "source": [
    "# ห้ามแก้ไข Cell นี้โดยเด็ดขาด\n",
    "# Test Calling E()\n",
    "from IPython.display import display # ใช้ display() จาก IPython เพื่อแสดงสมการใน notebook อย่างสวยงาม\n",
    "display(E())\n",
    "\n",
    "### BEGIN HIDDEN TESTS\n",
    "\n",
    "Q, pi, epsilon_0 = smp.symbols('Q pi epsilon_0', real=True)\n",
    "x, y, z, xp, yp, zp = smp.symbols(\"x y z x' y' z'\", real=True)\n",
    "\n",
    "### BEGIN SOLUTIONS\n",
    "# เวคเตอร์ตำแหน่งที่จุดสังเกต\n",
    "r = smp.Matrix([x, y, z])\n",
    "\n",
    "# เวคเตอร์ตำแหน่งของจุดที่ประจุอยู่\n",
    "rp = smp.Matrix([xp, yp, zp])\n",
    "\n",
    "# Displacement vector\n",
    "R = r - rp\n",
    "\n",
    "# หา E จากกฎของคูลอมป์\n",
    "ans = Q / (4 * pi * epsilon_0) * R / R.norm()**3\n",
    "\n",
    "# Test\n",
    "\n",
    "assert E() == ans\n",
    "\n",
    "### END HIDDEN TESTS"
   ]
  },
  {
   "cell_type": "markdown",
   "id": "cc250190-52b2-4cd9-89d6-f8b1086a9df5",
   "metadata": {},
   "source": [
    "### การแทนค่าตัวเลขใน Sympy Expressions\n",
    "\n",
    "ทำได้โดยการใช้ method .subs() และกำหนด input ของ method เป็น dict ที่ระบุค่าตัวเลขของตัวแปรที่ต้องการแทนค่า"
   ]
  },
  {
   "cell_type": "code",
   "execution_count": 37,
   "id": "a1ac64a1-74b9-46c4-8f47-1dda80045d9c",
   "metadata": {
    "editable": false,
    "slideshow": {
     "slide_type": ""
    },
    "tags": []
   },
   "outputs": [
    {
     "data": {
      "text/latex": [
       "$\\displaystyle \\left[\\begin{matrix}\\frac{Q \\left(x - x'\\right)}{4 \\epsilon_{0} \\pi \\left(\\left(x - x'\\right)^{2} + \\left(y - y'\\right)^{2} + \\left(z - z'\\right)^{2}\\right)^{\\frac{3}{2}}}\\\\\\frac{Q \\left(y - y'\\right)}{4 \\epsilon_{0} \\pi \\left(\\left(x - x'\\right)^{2} + \\left(y - y'\\right)^{2} + \\left(z - z'\\right)^{2}\\right)^{\\frac{3}{2}}}\\\\\\frac{Q \\left(z - z'\\right)}{4 \\epsilon_{0} \\pi \\left(\\left(x - x'\\right)^{2} + \\left(y - y'\\right)^{2} + \\left(z - z'\\right)^{2}\\right)^{\\frac{3}{2}}}\\end{matrix}\\right]$"
      ],
      "text/plain": [
       "Matrix([\n",
       "[Q*(x - x')/(4*epsilon_0*pi*((x - x')**2 + (y - y')**2 + (z - z')**2)**(3/2))],\n",
       "[Q*(y - y')/(4*epsilon_0*pi*((x - x')**2 + (y - y')**2 + (z - z')**2)**(3/2))],\n",
       "[Q*(z - z')/(4*epsilon_0*pi*((x - x')**2 + (y - y')**2 + (z - z')**2)**(3/2))]])"
      ]
     },
     "execution_count": 37,
     "metadata": {},
     "output_type": "execute_result"
    }
   ],
   "source": [
    "# กำหนดให้ E_sym เก็บเวคเตอร์สนามไฟฟ้า ณ จุดใด ๆ\n",
    "E_sym = E()\n",
    "E_sym"
   ]
  },
  {
   "cell_type": "markdown",
   "id": "c8a89944-c3e3-4526-a8d5-769beb322bb0",
   "metadata": {
    "editable": false,
    "slideshow": {
     "slide_type": ""
    },
    "tags": []
   },
   "source": [
    "สมมติให้ประจุ $Q=10\\mu\\mathrm{C}$ วางอยู่ที่จุดกำเนิด ต้องการหาสนามที่ตำแหน่ง $\\mathbf{r}=\\begin{bmatrix}1\\\\2\\\\-1\\end{bmatrix}$"
   ]
  },
  {
   "cell_type": "code",
   "execution_count": 38,
   "id": "f2e6c1d3-bbe1-4b71-9f5d-ccb2976e3d10",
   "metadata": {
    "editable": true,
    "slideshow": {
     "slide_type": ""
    },
    "tags": []
   },
   "outputs": [],
   "source": [
    "# แทนค่า\n",
    "\n"
   ]
  },
  {
   "cell_type": "markdown",
   "id": "4e64e867-361c-4516-868c-c75d2c343ff1",
   "metadata": {
    "editable": true,
    "slideshow": {
     "slide_type": ""
    },
    "tags": []
   },
   "source": [
    "### การแปลง Sympy Expression เป็น Numerical Function\n",
    "\n",
    "อีกวิธีหนึ่งในการคำนวณค่าตัวเลขของของสนาม $\\mathbf{E(r)}$ คือ การแปลง Sympy Expression ให้เป็น Python Function ที่สามารถเรียกใช้งานได้ตามปกติ\n",
    "\n",
    "Function ที่ใช้ในการแปลง Sympy Expression ให้เป็น Python Function คือ sympy.lambdify()"
   ]
  },
  {
   "cell_type": "code",
   "execution_count": 46,
   "id": "a6eab366-3402-440f-b9dc-f15075454738",
   "metadata": {
    "editable": true,
    "slideshow": {
     "slide_type": ""
    },
    "tags": []
   },
   "outputs": [
    {
     "data": {
      "text/latex": [
       "$\\displaystyle \\left[\\begin{matrix}\\frac{89875.5179226117 x}{\\left(x^{2} + y^{2} + z^{2}\\right)^{\\frac{3}{2}}}\\\\\\frac{89875.5179226117 y}{\\left(x^{2} + y^{2} + z^{2}\\right)^{\\frac{3}{2}}}\\\\\\frac{89875.5179226117 z}{\\left(x^{2} + y^{2} + z^{2}\\right)^{\\frac{3}{2}}}\\end{matrix}\\right]$"
      ],
      "text/plain": [
       "Matrix([\n",
       "[89875.5179226117*x/(x**2 + y**2 + z**2)**(3/2)],\n",
       "[89875.5179226117*y/(x**2 + y**2 + z**2)**(3/2)],\n",
       "[89875.5179226117*z/(x**2 + y**2 + z**2)**(3/2)]])"
      ]
     },
     "execution_count": 46,
     "metadata": {},
     "output_type": "execute_result"
    }
   ],
   "source": [
    "import scipy.constants as sp\n",
    "# กำหนด Sympy Expression E_sym โดยรับค่ามาจากฟังก์ชัน E() ก่อนหน้า\n",
    "E_sym = E()\n",
    "\n",
    "# แทนค่าตัวเลขในตัวแปรที่ทราบค่าแล้ว\n",
    "E_sym = E_sym.subs({\n",
    "    Q:10e-6, \n",
    "    epsilon_0:sp.epsilon_0, \n",
    "    pi:sp.pi,\n",
    "    xp:0, yp:0, zp:0\n",
    "})\n",
    "E_sym"
   ]
  },
  {
   "cell_type": "code",
   "execution_count": 49,
   "id": "a7cfcb6f-bc8c-47b8-bcf9-e762b6212d1c",
   "metadata": {
    "editable": true,
    "slideshow": {
     "slide_type": ""
    },
    "tags": []
   },
   "outputs": [],
   "source": [
    "# lambdify\n",
    "E_func = smp.lambdify([x, y, z], E_sym)"
   ]
  },
  {
   "cell_type": "code",
   "execution_count": 50,
   "id": "b04d573f-d76b-41d4-b994-0c04161179a9",
   "metadata": {
    "editable": true,
    "slideshow": {
     "slide_type": ""
    },
    "tags": []
   },
   "outputs": [
    {
     "data": {
      "text/plain": [
       "array([[ 933.92599547],\n",
       "       [1867.85199095],\n",
       "       [3735.70398189]])"
      ]
     },
     "execution_count": 50,
     "metadata": {},
     "output_type": "execute_result"
    }
   ],
   "source": [
    "# ทดสอบ Function E_func\n",
    "E_func(1, 2, 4)"
   ]
  },
  {
   "cell_type": "markdown",
   "id": "85eb362b-decb-4988-88e6-905aeceac205",
   "metadata": {
    "editable": true,
    "slideshow": {
     "slide_type": ""
    },
    "tags": []
   },
   "source": [
    "### Activity 2.2.2\n",
    "จงปรับปรุง Code ข้างต้น เพื่อสร้าง Python Function ที่รับค่าตำแหน่ง $(x, y, z)$ และ return ค่าของสนามไฟฟ้า $\\mathbf{E(r)}$ ที่เกิดขึ้นเนื่องจากประจุแบบจุดขนาด $-2.5~\\mu\\mathrm{C}$ ที่วางอยู่ ณ ตำแหน่ง $(1, -1, 0)~\\mathrm{m}$"
   ]
  },
  {
   "cell_type": "code",
   "execution_count": 51,
   "id": "36da79f2-ce51-430c-bbcd-8e8033894cba",
   "metadata": {
    "editable": true,
    "slideshow": {
     "slide_type": ""
    },
    "tags": []
   },
   "outputs": [
    {
     "data": {
      "text/latex": [
       "$\\displaystyle \\left[\\begin{matrix}\\frac{22468.8794806529 - 22468.8794806529 x}{\\left(z^{2} + \\left(x - 1\\right)^{2} + \\left(y + 1\\right)^{2}\\right)^{\\frac{3}{2}}}\\\\\\frac{- 22468.8794806529 y - 22468.8794806529}{\\left(z^{2} + \\left(x - 1\\right)^{2} + \\left(y + 1\\right)^{2}\\right)^{\\frac{3}{2}}}\\\\- \\frac{22468.8794806529 z}{\\left(z^{2} + \\left(x - 1\\right)^{2} + \\left(y + 1\\right)^{2}\\right)^{\\frac{3}{2}}}\\end{matrix}\\right]$"
      ],
      "text/plain": [
       "Matrix([\n",
       "[ (22468.8794806529 - 22468.8794806529*x)/(z**2 + (x - 1)**2 + (y + 1)**2)**(3/2)],\n",
       "[(-22468.8794806529*y - 22468.8794806529)/(z**2 + (x - 1)**2 + (y + 1)**2)**(3/2)],\n",
       "[                     -22468.8794806529*z/(z**2 + (x - 1)**2 + (y + 1)**2)**(3/2)]])"
      ]
     },
     "execution_count": 51,
     "metadata": {},
     "output_type": "execute_result"
    }
   ],
   "source": [
    "# ใช้ Sympy สร้าง Expression สนามไฟฟ้า E\n",
    "import sympy as smp\n",
    "from scipy.constants import pi, epsilon_0\n",
    "\n",
    "# กำหนดตัวแปรต้นที่ใช้\n",
    "x, y, z = smp.symbols('x y z', real=True)\n",
    "\n",
    "# เวคเตอร์ตำแหน่ง/เวคเตอร์ขจัด\n",
    "r = smp.Matrix([x, y, z])\n",
    "rp = smp.Matrix([1, -1, 0])\n",
    "R = r - rp\n",
    "\n",
    "# ขนาดของประจุ\n",
    "Q = -2.5e-6\n",
    "\n",
    "# สนามไฟฟ้า E\n",
    "E = Q / (4 * pi * epsilon_0) * R / R.norm()**3\n",
    "E"
   ]
  },
  {
   "cell_type": "code",
   "execution_count": 55,
   "id": "5aac6612-6bec-4fef-af38-7c9465920a52",
   "metadata": {
    "slideshow": {
     "slide_type": ""
    },
    "tags": []
   },
   "outputs": [],
   "source": [
    "# ใช้ lambdify() แปลง E เป็น Python Function\n",
    "E_func = smp.lambdify([x, y, z], E)"
   ]
  },
  {
   "cell_type": "code",
   "execution_count": 86,
   "id": "477022ce-5ac2-417d-8bad-73b56c992834",
   "metadata": {
    "editable": true,
    "nbgrader": {
     "grade": true,
     "grade_id": "test_2_2_2",
     "locked": true,
     "points": 1,
     "schema_version": 3,
     "solution": false,
     "task": false
    },
    "slideshow": {
     "slide_type": ""
    },
    "tags": []
   },
   "outputs": [],
   "source": [
    "# ห้ามแก้ไข Cell นี้โดยเด็ดขาด\n",
    "\n",
    "# ตรวจคำตอบ โดยการคำนวณแบบ numerical โดยตรงด้วย Numpy \n",
    "# หากนิสิตยังไม่เข้าใจส่วนนี้ ก็ยังไม่เป็นไร จะมีการกล่าวถึงต่อไปในภายหลัง\n",
    "\n",
    "from scipy.constants import pi, epsilon_0\n",
    "import numpy as np\n",
    "from numpy.linalg import norm\n",
    "\n",
    "Q = -2.5e-6\n",
    "rp = np.array([1, -1, 0])\n",
    "\n",
    "def E_numer(x, y, z):\n",
    "    r = np.array([x, y, z])\n",
    "    R = r - rp\n",
    "    return Q / (4 * pi * epsilon_0) * R / norm(R)**3\n",
    "\n",
    "# ตรวจคำตอบ\n",
    "assert np.abs(norm(E_func(1, 1, 1)) - norm(E_numer(1, 1, 1))) <= 0.001\n",
    "\n",
    "### BEGIN HIDDEN TESTS\n",
    "assert np.abs(norm(E_func(-1, 1, 3)) - norm(E_numer(-1, 1, 3))) <= 0.001\n",
    "assert np.abs(norm(E_func(1, -1, 1)) - norm(E_numer(1, -1, 1))) <= 0.001\n",
    "assert np.abs(norm(E_func(10, 15, 20)) - norm(E_numer(10, 15, 20))) <= 0.001\n",
    "### END HIDDEN TESTS"
   ]
  },
  {
   "cell_type": "code",
   "execution_count": null,
   "id": "755749a6-d98d-4460-b3fa-fdeb636350c3",
   "metadata": {
    "editable": false,
    "slideshow": {
     "slide_type": ""
    },
    "tags": []
   },
   "outputs": [],
   "source": []
  }
 ],
 "metadata": {
  "kernelspec": {
   "display_name": "Python 3 (ipykernel)",
   "language": "python",
   "name": "python3"
  },
  "language_info": {
   "codemirror_mode": {
    "name": "ipython",
    "version": 3
   },
   "file_extension": ".py",
   "mimetype": "text/x-python",
   "name": "python",
   "nbconvert_exporter": "python",
   "pygments_lexer": "ipython3",
   "version": "3.12.7"
  }
 },
 "nbformat": 4,
 "nbformat_minor": 5
}
