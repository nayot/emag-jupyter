{
 "cells": [
  {
   "cell_type": "code",
   "execution_count": null,
   "id": "d44defb5-6c5f-4671-9d20-6b6d8c353a9d",
   "metadata": {
    "editable": true,
    "nbgrader": {
     "grade": false,
     "grade_id": "cell-0f37fa8c28f0581c",
     "locked": true,
     "schema_version": 3,
     "solution": false,
     "task": false
    },
    "slideshow": {
     "slide_type": ""
    },
    "tags": []
   },
   "outputs": [],
   "source": []
  },
  {
   "cell_type": "markdown",
   "id": "cabd5fd9-d869-49bc-a7d6-af611206c62b",
   "metadata": {
    "editable": false,
    "slideshow": {
     "slide_type": ""
    },
    "tags": []
   },
   "source": [
    "![](https://raw.githubusercontent.com/nayot/emag-jupyter/refs/heads/main/pics/lecture_banner.webp)\n",
    "# LECTURE 03 Coulomb's Law\n",
    "\n",
    "# 514336 Engineering Electromagnetic Field"
   ]
  },
  {
   "cell_type": "markdown",
   "id": "9c5cbdd8-7b0b-4e8f-99e9-aa349d41f0b1",
   "metadata": {
    "editable": false,
    "slideshow": {
     "slide_type": ""
    },
    "tags": []
   },
   "source": [
    "## กฎของคูลอมป์\n",
    "**ตัวอย่าง 2.1**\n",
    "กำหนดให้มีประจุ $Q=3\\times 10^{-4}~\\mathrm{C}$ วางอยู่ที่จุด $M(1, 2, 3)$ และประจุ $Q_2=-10^{-4}~\\mathrm{C}$ วางอยู่ที่จุด $N(2, 0, 5)$ ในสุญญากาศ จงหาแรงที่กระทำกับประจุ $Q_2$ เนื่องจากประจุ $Q_1$\n",
    "\n",
    "![](https://github.com/nayot/emag-jupyter/blob/main/pics/coulombs.png?raw=True)\n",
    "\n",
    "**หมายเหตุ** Code ต่อไปนี้มีการเรียกใช้ค่าคงที่ทางวิทยาศาสตร์จาก package scipy หากยังไม่มี ให้ !pip install scipy"
   ]
  },
  {
   "cell_type": "code",
   "execution_count": 7,
   "id": "6347c9b6-7886-4bf6-98ca-3852a5797dd6",
   "metadata": {
    "editable": false,
    "nbgrader": {
     "grade": false,
     "grade_id": "cell-8a62529a69805cad",
     "locked": true,
     "schema_version": 3,
     "solution": false,
     "task": false
    },
    "scrolled": true,
    "slideshow": {
     "slide_type": ""
    },
    "tags": []
   },
   "outputs": [],
   "source": [
    "import sympy as smp\n",
    "from scipy.constants import epsilon_0, pi"
   ]
  },
  {
   "cell_type": "code",
   "execution_count": null,
   "id": "dfd1a15b-50f6-4672-8581-954399926137",
   "metadata": {
    "editable": true,
    "slideshow": {
     "slide_type": ""
    },
    "tags": []
   },
   "outputs": [],
   "source": [
    "# กำหนด parameters ทุกตัว\n"
   ]
  },
  {
   "cell_type": "code",
   "execution_count": null,
   "id": "e7a317b1-142f-49f1-bfac-2eeb85557fdf",
   "metadata": {
    "editable": true,
    "slideshow": {
     "slide_type": ""
    },
    "tags": []
   },
   "outputs": [],
   "source": [
    "# หา Displacement Vector R_12\n"
   ]
  },
  {
   "cell_type": "code",
   "execution_count": null,
   "id": "7392fd27-5e0a-4418-a74e-d4fca4e35330",
   "metadata": {
    "editable": true,
    "slideshow": {
     "slide_type": ""
    },
    "tags": []
   },
   "outputs": [],
   "source": [
    "# หา Unit Vector a_12\n"
   ]
  },
  {
   "cell_type": "code",
   "execution_count": null,
   "id": "77d76ea6-a64c-4f81-852a-971ee0d697f0",
   "metadata": {
    "editable": true,
    "slideshow": {
     "slide_type": ""
    },
    "tags": []
   },
   "outputs": [],
   "source": [
    "# หาแรงจากกฎของคูลอมป์\n"
   ]
  },
  {
   "cell_type": "code",
   "execution_count": null,
   "id": "72eefb4c-d9d5-4eb4-84de-75a62df3c47b",
   "metadata": {
    "editable": true,
    "slideshow": {
     "slide_type": ""
    },
    "tags": []
   },
   "outputs": [],
   "source": [
    "# (optional) หาขนาดของแรง\n"
   ]
  },
  {
   "cell_type": "markdown",
   "id": "a5d1ac0f-0caa-48de-9976-ddd71c54d2b8",
   "metadata": {
    "editable": true,
    "slideshow": {
     "slide_type": ""
    },
    "tags": []
   },
   "source": [
    "### Activity 3.1\n",
    "จากโจทย์ในตัวอย่างที่ 2.1 จงหาแรงที่กระทำกับประจุ $Q_1$ เนื่องจากประจุ $Q_2$"
   ]
  },
  {
   "cell_type": "code",
   "execution_count": null,
   "id": "3814b0d3-ef1d-46f7-b5a9-2d25ee2dddb0",
   "metadata": {
    "editable": false,
    "slideshow": {
     "slide_type": ""
    },
    "tags": []
   },
   "outputs": [],
   "source": [
    "import sympy as smp\n",
    "from scipy.constants import epsilon_0, pi"
   ]
  },
  {
   "cell_type": "code",
   "execution_count": 14,
   "id": "58fe657e-8213-4655-b0ee-38f1ac7af3c9",
   "metadata": {
    "editable": true,
    "nbgrader": {
     "grade": false,
     "grade_id": "activity_3_1",
     "locked": false,
     "schema_version": 3,
     "solution": true,
     "task": false
    },
    "slideshow": {
     "slide_type": ""
    },
    "tags": []
   },
   "outputs": [],
   "source": [
    "def F_1():\n",
    "    ### BEGIN SOLUTIONS\n",
    "    Q1 = 3.0e-4\n",
    "    Q2 = -1e-4\n",
    "    r1 = smp.Matrix([1, 2, 3])\n",
    "    r2 = smp.Matrix([2, 0, 5])\n",
    "\n",
    "    R = r1 - r2\n",
    "    \n",
    "    return Q1 * Q2 / (4.0 * pi * epsilon_0) * R / R.norm()**3\n",
    "    ### END SOLUTIONS"
   ]
  },
  {
   "cell_type": "code",
   "execution_count": null,
   "id": "03318b48-8168-48f1-9f59-b7ebbb90ed0f",
   "metadata": {
    "editable": true,
    "slideshow": {
     "slide_type": ""
    },
    "tags": []
   },
   "outputs": [],
   "source": [
    "# ทดสอบ F_1()\n"
   ]
  },
  {
   "cell_type": "code",
   "execution_count": 17,
   "id": "2c2023a9-2725-443d-ad8e-6d4a2bf2b5fe",
   "metadata": {
    "editable": false,
    "nbgrader": {
     "grade": true,
     "grade_id": "test_3_1",
     "locked": true,
     "points": 1,
     "schema_version": 3,
     "solution": false,
     "task": false
    },
    "slideshow": {
     "slide_type": ""
    },
    "tags": []
   },
   "outputs": [],
   "source": [
    "# ห้ามแก้ไข Cell นี้โดยเด็ดขาด\n",
    "assert 29.957 <= F_1().norm() <= 29.959"
   ]
  },
  {
   "cell_type": "markdown",
   "id": "1172b4f6-b40f-41cd-946f-694f81a24174",
   "metadata": {
    "editable": true,
    "slideshow": {
     "slide_type": ""
    },
    "tags": []
   },
   "source": [
    "## 2.2 ความเข้มสนามไฟฟ้า\n",
    "สนามไฟฟ้า (Electric Field Intensity) เนื่องจากประจุแบบจุดที่วางอยู่ที่จุดกำเนิด\n",
    "\n",
    "$$\\mathbf{E(r)}=\\frac{Q}{4\\pi\\epsilon_0}\\frac{\\mathbf{r}}{|\\mathbf{r}|^3},\\qquad\\mathrm{V/m}$$\n",
    "\n",
    "เมื่อ $\\mathbf{r}$ คือ เวคเตอร์ตำแหน่งของจุดสังเกต\n",
    "\n",
    "สนามไฟฟ้า เนื่องจากประจุแบบจุดที่วางอยู่ที่จุดใด ๆ ซึ่งระบุโดย $\\mathbf{r'}$\n",
    "\n",
    "$$\\mathbf{E(r)}=\\frac{Q}{4\\pi\\epsilon_0}\\frac{\\mathbf{r-r'}}{|\\mathbf{r-r'}|^3}\\qquad\\mathrm{V/m}$$\n",
    "\n",
    "**ตัวอย่าง 2.2** จงหาสนามไฟฟ้า $\\mathbf{E}(x, y, z)$ เนื่องจากประจุแบบจุดขนาด $Q$ ที่วางอยู่ที่จุดกำเนิด ณ จุด $(x, y, z)$ ใด ๆ"
   ]
  },
  {
   "cell_type": "code",
   "execution_count": 50,
   "id": "65dab80e-49eb-48e8-9893-ad717230c3e5",
   "metadata": {
    "editable": true,
    "slideshow": {
     "slide_type": ""
    },
    "tags": []
   },
   "outputs": [],
   "source": [
    "import sympy as smp\n",
    "import scipy.constants as sp\n",
    "\n",
    "# กำหนดตัวแปร \"ต้น\" ต่าง ๆ ที่ใช้ใน sympy\n",
    "Q, x, y, z, pi, epsilon_0 = smp.symbols('Q x y z pi epsilon_0', real=True)"
   ]
  },
  {
   "cell_type": "code",
   "execution_count": 51,
   "id": "993ca308-4c21-4409-b548-b1f6d6a27aa6",
   "metadata": {
    "editable": true,
    "slideshow": {
     "slide_type": ""
    },
    "tags": []
   },
   "outputs": [
    {
     "data": {
      "text/latex": [
       "$\\displaystyle \\left[\\begin{matrix}x\\\\y\\\\z\\end{matrix}\\right]$"
      ],
      "text/plain": [
       "Matrix([\n",
       "[x],\n",
       "[y],\n",
       "[z]])"
      ]
     },
     "execution_count": 51,
     "metadata": {},
     "output_type": "execute_result"
    }
   ],
   "source": [
    "# position vector r ที่กำหนดจุดสังเกต\n",
    "\n"
   ]
  },
  {
   "cell_type": "code",
   "execution_count": 52,
   "id": "51103f5c-ac5b-4840-9705-731d07228c04",
   "metadata": {
    "editable": true,
    "slideshow": {
     "slide_type": ""
    },
    "tags": []
   },
   "outputs": [],
   "source": [
    "# สนามไฟฟ้า E จากกฎของคูลอมป์\n"
   ]
  },
  {
   "cell_type": "code",
   "execution_count": 56,
   "id": "e112bdfb-f136-43d7-8938-0fe4b814e8b3",
   "metadata": {
    "editable": true,
    "slideshow": {
     "slide_type": ""
    },
    "tags": []
   },
   "outputs": [],
   "source": [
    "# ทดลองแ ทนค่า เพื่อหาค่าที่เป็นตัวเลข (Numerical Values)\n"
   ]
  },
  {
   "cell_type": "markdown",
   "id": "8c45de80-9331-41ac-a561-6df34c3503d9",
   "metadata": {
    "editable": true,
    "slideshow": {
     "slide_type": ""
    },
    "tags": []
   },
   "source": [
    "### Activity 2.2\n",
    "จงปรับแก้ Code ข้างต้น เพื่อสร้างฟังก์ชัน E() ที่จะ return สนามไฟฟ้า ณ ตำแหน่ง $(x, y, z)$ ใด ๆ เนื่องจากประจุแบบจุดที่วางอยู่ ณ ตำแหน่ง $(x', y', z')$\n",
    "\n",
    "**หมายเหตุ** การที่กำหนดให้ต้องตอบในรูปฟังก์ชัน เพื่อประโยชน์ของการตรวจคำตอบอัตโนมัติ"
   ]
  },
  {
   "cell_type": "code",
   "execution_count": 63,
   "id": "dfdb1b05-d418-4d12-ac6b-230d7b0c4825",
   "metadata": {
    "editable": true,
    "slideshow": {
     "slide_type": ""
    },
    "tags": []
   },
   "outputs": [],
   "source": [
    "# เพื่อความสะดวกในการทดสอบ ยังไม่ต้องนำ Code ใส่ในฟังก์ชัน\n",
    "\n",
    "import sympy as smp\n",
    "# กำหนดตัวแปรต้นที่ต้องใช้\n",
    "Q, pi, epsilon_0 = smp.symbols('Q pi epsilon_0', real=True)\n",
    "x, y, z, xp, yp, zp = smp.symbols(\"x y z x' y' z'\", real=True)\n",
    "\n",
    "# YOUR CODE HERE\n"
   ]
  },
  {
   "cell_type": "code",
   "execution_count": null,
   "id": "5b50d4aa-29c0-442b-aeca-b1d2216cbf68",
   "metadata": {
    "editable": true,
    "slideshow": {
     "slide_type": ""
    },
    "tags": []
   },
   "outputs": [],
   "source": [
    "import sympy as smp\n",
    "# เมื่อทดสอบจนเป็นที่พอใจแล้ว ให้นำ Code มาใส่ในฟังก์ชัน E() เพื่อให้ระบบสามารถตรวจได้\n",
    "def E():\n",
    "    Q, pi, epsilon_0 = smp.symbols('Q pi epsilon_0', real=True)\n",
    "    x, y, z, xp, yp, zp = smp.symbols(\"x y z x' y' z'\", real=True)\n",
    "\n",
    "    ### BEGIN SOLUTIONS\n",
    "    # เวคเตอร์ตำแหน่งที่จุดสังเกต\n",
    "    r = smp.Matrix([x, y, z])\n",
    "    \n",
    "    # เวคเตอร์ตำแหน่งของจุดที่ประจุอยู่\n",
    "    rp = smp.Matrix([xp, yp, zp])\n",
    "\n",
    "    # Displacement vector\n",
    "    R = r - rp\n",
    "\n",
    "    # หา E จากกฎของคูลอมป์\n",
    "    \n",
    "    ### END SOLUTIONS"
   ]
  }
 ],
 "metadata": {
  "kernelspec": {
   "display_name": "Python 3 (ipykernel)",
   "language": "python",
   "name": "python3"
  },
  "language_info": {
   "codemirror_mode": {
    "name": "ipython",
    "version": 3
   },
   "file_extension": ".py",
   "mimetype": "text/x-python",
   "name": "python",
   "nbconvert_exporter": "python",
   "pygments_lexer": "ipython3",
   "version": "3.12.7"
  }
 },
 "nbformat": 4,
 "nbformat_minor": 5
}
