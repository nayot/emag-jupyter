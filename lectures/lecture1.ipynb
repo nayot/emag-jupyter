{
 "cells": [
  {
   "cell_type": "markdown",
   "id": "3370a03f-59df-4d64-bd7e-3b615055027a",
   "metadata": {
    "nbgrader": {
     "grade": false,
     "grade_id": "cell-23e872fd4876ff62",
     "locked": true,
     "schema_version": 3,
     "solution": false,
     "task": false
    }
   },
   "source": [
    "![](https://raw.githubusercontent.com/nayot/emag/refs/heads/main/pics/banner.webp)\n",
    "# LECTURE 01 Introduction to EMAG and House Keeping\n",
    "\n",
    "**ยินดีต้อนรับเข้าสู่รายวิชา 514336 Engineering Electromagnetic Fields**"
   ]
  },
  {
   "cell_type": "markdown",
   "id": "9042d892-71c8-424f-9864-18bc7510b96d",
   "metadata": {
    "nbgrader": {
     "grade": false,
     "grade_id": "Intro",
     "locked": true,
     "schema_version": 3,
     "solution": false,
     "task": false
    }
   },
   "source": [
    "\n",
    "\n",
    "<h2>ข้อตกลงเบื้องต้นในการเรียน</h2>\n",
    "\n",
    "* เข้าเรียนตรงเวลา / มีระบบการเช็คชื่อ\n",
    "* แนะนำให้เปิดกล้องในขณะเรียนตลอดเวลา ผู้ที่ไม่เปิดกล้องจะได้รับสิทธิเรียกตอบคำถามก่อนเสมอ\n",
    "* ผู้ที่ไม่เปิดกล้อง และไม่มีส่วนร่วมในชั้นเรียน (เรียกถาม ไม่ตอบ) จะถูกเชิญออกไปที่ waiting room / ในกรณีนี้จะถูกยกเลิกการเช็คชื่อเข้าชั้นเรียน\n",
    "* ติดต่อครูได้ทาง Google Classroom\n",
    "\n",
    "<h2>อุปกรณ์การเรียน</h2>\n",
    "\n",
    "* คอมพิวเตอร์ หรือ Tablet ที่สามารถใช้ Google Colab หรือ Jupyter Lab ได้\n",
    "* (optional) สำหรับผู้ที่ต้องการใช้ Jupyter Lab (offline) แนะนำให้ติดตั้ง Anaconda (https://www.anaconda.com/download/success)\n",
    "* เอกสารประกอบการเรียน / การส่งการบ้าน ให้ส่งในระบบ Google Classroom โดยทั้งหมดให้ส่งเป็น .ipynb ไฟล์ เท่านั้น\n",
    "* หากยังไม่มี GitHub Account ให้สมัคร GitHub ด้วย เพื่อใช้ในการแชร์ไฟล์ภาพ โดยให้สร้าง Repository ชื่อ emag_acy67 และกำหนดสิทธิ์การเข้าถึงเป็น Public / ควรสร้าง folder ชื่อ pics ไว้ใน Repository ดังกล่าวเตรียมไว้เลย\n",
    "\n",
    "<h2>กิจกรรม งานที่จะต้องส่ง และสัดส่วนคะแนน</h2>\n",
    "\n",
    "* คะแนนเข้าเรียน (Class Attendance) - 10%\n",
    "* In-Class Activities (ตรวจให้คะแนน) - 20%\n",
    "* Homeworks - 20%\n",
    "* Midterm - 25%\n",
    "* Final - 25%\n"
   ]
  },
  {
   "cell_type": "markdown",
   "id": "6b12b291-9625-4b93-b368-0e7d53a65523",
   "metadata": {},
   "source": [
    "<h2>เกณฑ์การตัดเกรด</h2>\n",
    "\n",
    "กด SHIFT + Enter สำหรับการ run cell ต่อไปนี้"
   ]
  },
  {
   "cell_type": "code",
   "execution_count": null,
   "id": "fff68dc3-1375-4587-a11e-f6bef9c5ed9b",
   "metadata": {
    "nbgrader": {
     "grade": false,
     "grade_id": "cell-2b83711f3c9b67bd",
     "locked": true,
     "schema_version": 3,
     "solution": false,
     "task": false
    }
   },
   "outputs": [],
   "source": [
    "def main():\n",
    "    score = input(\"Enter your score: \")\n",
    "    score = float(score)\n",
    "    print(f\"Your grade: {get_grade(score)}\")\n",
    "    \n",
    "def get_grade(score):\n",
    "    \"\"\"\n",
    "    Returns the grade based on the input score using match-case.\n",
    "    Parameters:\n",
    "        score (float): The score (0-100).\n",
    "    Returns:\n",
    "        str: Grade (A, B+, B, C+, C, D+, D, or F).\n",
    "    \"\"\"\n",
    "    if not 0.00 <= score <= 100.00:\n",
    "        return \"Invalid score. Please enter a score between 0 and 100.\"\n",
    "    \n",
    "    match score:\n",
    "        case s if s >= 80.00:\n",
    "            return \"A\"\n",
    "        case s if s >= 75.00:\n",
    "            return \"B+\"\n",
    "        case s if s >= 70.00:\n",
    "            return \"B\"\n",
    "        case s if s >= 65.00:\n",
    "            return \"C+\"\n",
    "        case s if s >= 60.00:\n",
    "            return \"C\"\n",
    "        case s if s >= 55.00:\n",
    "            return \"D+\"\n",
    "        case s if s >= 50.00:\n",
    "            return \"D\"\n",
    "        case _:\n",
    "            return \"F\"\n",
    "\n",
    "main()"
   ]
  },
  {
   "cell_type": "markdown",
   "id": "f609da40-72a9-49fb-97d5-f16cd9cc1fa8",
   "metadata": {
    "nbgrader": {
     "grade": false,
     "grade_id": "cell-c7cd768551fe386d",
     "locked": true,
     "schema_version": 3,
     "solution": false,
     "task": false
    }
   },
   "source": [
    "# บทที่ 1 การวิเคราะห์เชิงเวคเตอร์"
   ]
  },
  {
   "cell_type": "markdown",
   "id": "ee6b23d0-82ee-486b-a935-52078b6f875f",
   "metadata": {
    "jp-MarkdownHeadingCollapsed": true,
    "nbgrader": {
     "grade": false,
     "grade_id": "cell-15ed653d60f9d60f",
     "locked": true,
     "schema_version": 3,
     "solution": false,
     "task": false
    }
   },
   "source": [
    "**1.1.1 การพิมพ์ตัวแปรแทนปริมาณเชิงสเกลาร์ และประมาณเชิงเวคเตอร์**\n",
    "\n",
    "#### Typographic Standards\n",
    "\n",
    "| **Element**       | **Type Style**         | **Example**                     |\n",
    "|--------------------|------------------------|----------------------------------|\n",
    "| Functions          | Upright (Roman)       | $ \\sin(x), \\ln(x), f(x) $     |\n",
    "| Variables          | Italic                | $ x, y, z, a, b $             |\n",
    "| Constants          | Upright for special   | $ \\pi, e, i $                 |\n",
    "| Units & Operators  | Upright (Roman)       | $ \\text{m/s}, \\cdot, \\nabla $ |\n",
    "| Vectors            | Bold                  | $ \\mathbf{v}$       |\n",
    "| Matrices           | Bold Uppercase        | $ \\mathbf{A}, \\mathbf{B} $    |\n"
   ]
  },
  {
   "cell_type": "markdown",
   "id": "dce83379-aebb-4c3d-bece-b81d06f2be1e",
   "metadata": {},
   "source": [
    "### Activity 1\n",
    "(1 คะแนน)\n",
    "\n",
    "**คำสั่ง**\n",
    "1. ให้ทุกคนเขียน \"ตัวแปร (Variable) เวคเตอร์/เมตริกซ์\" ด้วยตัวอักษร Roman a - z และ A - Z ด้วยมือลงในกระดาษหรือ Tablet\n",
    "2. เมื่อเสร็จแล้วให้ถ่ายรูป หรือ capture เป็นไฟล์ภาพ upload เข้าไปใน GitHub Repository ของตนเอง\n",
    "3. เปิดภาพใน mode 'raw' จากนั้น copy URL ไว้\n",
    "4. Paste URL แทนที่คำว่า None (ระวังกระทบ syntax อื่น ๆ) เพื่อแนบไฟล์ภาพ\n",
    "\n",
    "**ผลงาน**\n",
    "\n",
    "![ผลงาน](None)"
   ]
  },
  {
   "cell_type": "markdown",
   "id": "78292435-0b50-4ca9-bb1a-fef85379b80b",
   "metadata": {},
   "source": [
    "เมื่อเสร็จแล้วให้เพิ่ม return True ในฟังก์ชัน activity1_done()"
   ]
  },
  {
   "cell_type": "code",
   "execution_count": null,
   "id": "95bdc553-cd86-4920-b527-6a85947ec581",
   "metadata": {
    "nbgrader": {
     "grade": false,
     "grade_id": "activity_1",
     "locked": false,
     "schema_version": 3,
     "solution": true,
     "task": false
    }
   },
   "outputs": [],
   "source": [
    "def activity1_done():\n",
    "    ## เพื่อทำ activity เสร็จแล้ว ให้ uncomment คำสั่ง return True ต่อไปนี้\n",
    "    # return True\n",
    "    \n",
    "    ### BEGIN SOLUTION\n",
    "    return True\n",
    "    ### END SOLUTION"
   ]
  },
  {
   "cell_type": "code",
   "execution_count": null,
   "id": "5a31a165-d10e-4f43-b8f6-17bfcd873161",
   "metadata": {
    "jupyter": {
     "source_hidden": true
    },
    "nbgrader": {
     "grade": true,
     "grade_id": "correct_activity_1",
     "locked": true,
     "points": 1,
     "schema_version": 3,
     "solution": false,
     "task": false
    }
   },
   "outputs": [],
   "source": [
    "# ห้ามแก้ไข Cell นี้โดยเด็ดขาด\n",
    "assert activity1_done() == True"
   ]
  },
  {
   "cell_type": "markdown",
   "id": "eeda4176-8f33-464a-b2ef-1d7bde22d446",
   "metadata": {},
   "source": [
    "### Activity 2\n",
    "\n",
    "(1 คะแนน)\n",
    "\n",
    "การพิมพ์สมการใน markdown language สามารถทำได้โดยใช้ $\\LaTeX$ syntax ที่อยู่ระหว่างเครื่องหมาย $ เช่น\n",
    "\n",
    "```latex\n",
    "$\\mathbf{A}$ <-- หมายถึง math bold font (ตัวหนา) สำหรับเวคเตอร์\n",
    "$\\pi$ <-- หมายถึง ค่าพาย\n",
    "```\n",
    "\n",
    "**คำสั่ง**\n",
    "ให้นิสิตเติมตารางต่อไปนี้ให้สมบูรณ์ จากนั้นแก้ไขฟังก์ชัน activity2_done() ให้ return True"
   ]
  },
  {
   "cell_type": "markdown",
   "id": "93393b19-6115-45c6-939a-400e4800964f",
   "metadata": {},
   "source": [
    "|     ความหมายที่ต้องการ      |        รูปแบบตัวแปร      |\n",
    "|-------------------------|-----------------------|\n",
    "|ตัวแปร เวลา t               |                       |\n",
    "|เวคเตอร์ความเร็ว v            |                       |\n",
    "|เวคเตอร์ฟังก์ชันความเร็วกับเวลา v(t)|                       |\n",
    "|หน่วย m/s                  |                        |\n",
    "|ปริมาณสเกลาร์ อุณหภูมิเฉลี่ย T    |                        |\n",
    "|ฟังก์ชัน sin(2 pi x)         |                        |"
   ]
  },
  {
   "cell_type": "code",
   "execution_count": null,
   "id": "05308573-fb2f-421b-9704-151d73668f7c",
   "metadata": {
    "nbgrader": {
     "grade": false,
     "grade_id": "activity_2",
     "locked": false,
     "schema_version": 3,
     "solution": true,
     "task": false
    }
   },
   "outputs": [],
   "source": [
    "def activity2_done():\n",
    "    ## เพื่อทำ activity เสร็จแล้ว ให้เพิ่มคำสั่ง return True\n",
    " \n",
    "    ### BEGIN SOLUTION\n",
    "    return True\n",
    "    ### END SOLUTION"
   ]
  },
  {
   "cell_type": "code",
   "execution_count": null,
   "id": "fd3e5a37-78c0-4bcb-bb14-aa12fd9d9f19",
   "metadata": {
    "nbgrader": {
     "grade": true,
     "grade_id": "correct_activity_2",
     "locked": true,
     "points": 1,
     "schema_version": 3,
     "solution": false,
     "task": false
    }
   },
   "outputs": [],
   "source": [
    "# ห้ามแก้ไข cell นี้โดยเด็ดขาด\n",
    "assert activity2_done() == True"
   ]
  },
  {
   "cell_type": "code",
   "execution_count": null,
   "id": "a0dc7692-7191-4d74-9f39-caefa3aa4d17",
   "metadata": {},
   "outputs": [],
   "source": []
  },
  {
   "cell_type": "markdown",
   "id": "5b8bb09c-0827-4824-90f6-865e378015cf",
   "metadata": {},
   "source": [
    "**1.2 -1.3 เวคเตอร์หนึ่งหน่วยและระบบพิกัดฉาก**\n",
    "ในหัวข้อนี้ เราจะใข้ Library 'sympy' เพื่อการคำนวณแบบ symbolic โดยให้นิสิตทำการ\n",
    "\n",
    "```python\n",
    "import sympy as smp\n",
    "```\n",
    "อย่างไรก็ดี หากเกิด error แสดงว่าในเครื่องคอมพิวเตอร์หรือใน Colab ของนิสิตยังไม่ได้ install library ดังกล่าว ให้ install โดยใช้คำสั่ง\n",
    "\n",
    "```python\n",
    "%pip install sympy\n",
    "```"
   ]
  },
  {
   "cell_type": "code",
   "execution_count": null,
   "id": "a4660cb9-3cde-4b2f-9317-74c7febfacdf",
   "metadata": {},
   "outputs": [],
   "source": [
    "import sympy as smp"
   ]
  },
  {
   "cell_type": "markdown",
   "id": "3d66c57e-f305-48a3-ad21-44d0dbc51832",
   "metadata": {},
   "source": [
    "เวคเตอร์ $\\mathbf{A} = 2\\mathbf{a_x}-2\\mathbf{a_y}+3\\mathbf{a_z}=\\begin{bmatrix}2\\\\-2\\\\3 \\end{bmatrix}$\n",
    "```python\n",
    "smp.Matrix()\n",
    "```"
   ]
  },
  {
   "cell_type": "code",
   "execution_count": null,
   "id": "83bf9370-fadc-41f1-a7d7-c7b91ceea96d",
   "metadata": {},
   "outputs": [],
   "source": []
  },
  {
   "cell_type": "markdown",
   "id": "71115bf7-dc17-4381-9b83-310b8a0209a2",
   "metadata": {},
   "source": [
    "ขนาดของ vector หรือ Norm ของเวคเตอร์ หาได้โดยใช้ method norm()"
   ]
  },
  {
   "cell_type": "code",
   "execution_count": null,
   "id": "5e27d413-ef1d-4c01-b648-ff0d2c6c29d4",
   "metadata": {},
   "outputs": [],
   "source": []
  },
  {
   "cell_type": "markdown",
   "id": "519317ae-f287-40d1-8dd9-bf4c21a1661d",
   "metadata": {},
   "source": [
    "การคูณ vector ด้วย scalar เช่น $2\\mathbf{A}=2\\begin{bmatrix}2\\\\-2\\\\3 \\end{bmatrix}$\n",
    "\n",
    "ส่งผลอย่างไรต่อ vector นั้น?"
   ]
  },
  {
   "cell_type": "code",
   "execution_count": null,
   "id": "24ee38ab-84f5-46e8-a1e7-6833344328b8",
   "metadata": {},
   "outputs": [],
   "source": []
  },
  {
   "cell_type": "markdown",
   "id": "8ce27932-d32b-4d37-9ec4-3236b5a5ff9d",
   "metadata": {},
   "source": [
    "**ตัวอย่าง 1.1** จงหาเวคเตอร์หนึ่งหน่วยที่ชี้จากจุดกำเนิดไปยังจุด $G(2, -2, 1)$"
   ]
  },
  {
   "cell_type": "code",
   "execution_count": null,
   "id": "2417f12b-e60e-45a5-9257-658399ce5152",
   "metadata": {},
   "outputs": [],
   "source": []
  },
  {
   "cell_type": "markdown",
   "id": "56dbb9bd-df30-43ac-a3d1-26d713b2d296",
   "metadata": {},
   "source": [
    "การบวก/ลบเมตริกซ์ในระบบพิกัดฉาก\n",
    "$$\\mathbf{A}=\\begin{bmatrix}2\\\\-2\\\\3\\end{bmatrix},\\quad\n",
    "\\mathbf{B}=\\begin{bmatrix}1\\\\2\\\\1\\end{bmatrix}\n",
    "$$\n",
    "\n",
    "พิจารณา\n",
    "$\\mathbf{A} + \\mathbf{B}$"
   ]
  },
  {
   "cell_type": "code",
   "execution_count": null,
   "id": "30be3e69-2ec3-464f-8268-0e93abedfd4e",
   "metadata": {},
   "outputs": [],
   "source": []
  },
  {
   "cell_type": "markdown",
   "id": "706109bf-5588-4c62-9039-5c1f5505db47",
   "metadata": {},
   "source": [
    "$\\mathbf{A} - \\mathbf{B}$"
   ]
  },
  {
   "cell_type": "markdown",
   "id": "122fa685-bcfe-475a-879b-52b1be8eb5dc",
   "metadata": {},
   "source": []
  },
  {
   "cell_type": "markdown",
   "id": "e5e6abf3-828e-46fc-9b58-548fe1eb15d1",
   "metadata": {},
   "source": [
    "**1.5 Dot Product**\n",
    "\n",
    "$\\mathbf{A}\\cdot\\mathbf{B}$\n",
    "\n",
    "ใน Sympy ทำได้โดย A.dot(B)"
   ]
  },
  {
   "cell_type": "code",
   "execution_count": null,
   "id": "040e6e12-c533-4e41-a478-def5407c1cbd",
   "metadata": {},
   "outputs": [],
   "source": []
  },
  {
   "cell_type": "markdown",
   "id": "ac52b148-89fd-448f-84b1-d9710c3c566b",
   "metadata": {},
   "source": [
    "การ dot กับเวคเตอร์หนึ่งหน่วย เช่น $\\mathbf{A}\\cdot\\mathbf{a_x}$"
   ]
  },
  {
   "cell_type": "code",
   "execution_count": null,
   "id": "c4caef24-c44c-4225-9005-6a738c09a288",
   "metadata": {},
   "outputs": [],
   "source": []
  },
  {
   "cell_type": "markdown",
   "id": "b203f332-5343-4ee2-a3a0-44c5fae21217",
   "metadata": {},
   "source": [
    "### Activity 3\n",
    "(1 คะแนน)\n",
    "\n",
    "3.1 พิจารณาสนามเวคเตอร์ $\\mathbf{G}(x, y, z)=y\\mathbf{a_x}-2.5x\\mathbf{a_y}+3\\mathbf{a_z}$ จงเขียนฟังก์ชัน G เพื่อ return ค่าของเวคเตอร์ $\\mathbf{G}$ ณ จุด $(x, y, z)$ ใด ๆ"
   ]
  },
  {
   "cell_type": "code",
   "execution_count": null,
   "id": "9bcc7b9a-7d2f-471e-a4dd-c168d85a1605",
   "metadata": {
    "nbgrader": {
     "grade": false,
     "grade_id": "activity_3_1",
     "locked": false,
     "schema_version": 3,
     "solution": true,
     "task": false
    }
   },
   "outputs": [],
   "source": [
    "import sympy as smp\n",
    "def G(x, y, z):\n",
    "    ### BEGIN SOLUTION\n",
    "    return smp.Matrix([y, -2.5 * x, 3])\n",
    "    ### END SOLUTION"
   ]
  },
  {
   "cell_type": "code",
   "execution_count": null,
   "id": "038f196e-21bd-431d-8bcd-974be30e4315",
   "metadata": {
    "nbgrader": {
     "grade": true,
     "grade_id": "correct_activity_3_1",
     "locked": true,
     "points": 1,
     "schema_version": 3,
     "solution": false,
     "task": false
    }
   },
   "outputs": [],
   "source": [
    "# ห้ามแก้ไข code ต่อไปนี้โดยเด็ดขาด\n",
    "assert 4.38 <= G(1, 2, 3).norm() <= 4.39\n",
    "assert 6.160 <= G(-2, 2, 4).norm() <= 6.165"
   ]
  },
  {
   "cell_type": "markdown",
   "id": "3af8f381-1688-4755-b3af-b60387ebccee",
   "metadata": {},
   "source": [
    "3.2 จงเขียน code เพื่อหาองค์ประกอบเชิงสเกลาร์ของเวคเตอร์ $\\mathbf{G}$ ณ จุด $\\mathbf{Q}(4, 5,2)$ ในทิศทาง $\\mathbf{a_N}=\\frac{1}{3}(2\\mathbf{a_x}+2\\mathbf{a_y}-2\\mathbf{a_z})$\n",
    "\n",
    "(1 คะแนน)"
   ]
  },
  {
   "cell_type": "code",
   "execution_count": null,
   "id": "05d07a1d-d5d0-45dd-b5d4-507bc76c4721",
   "metadata": {
    "nbgrader": {
     "grade": false,
     "grade_id": "activity_3_2",
     "locked": false,
     "schema_version": 3,
     "solution": true,
     "task": false
    }
   },
   "outputs": [],
   "source": [
    "def G_N():\n",
    "    ### BEGIN SOLUTION\n",
    "    G_Q = G(4, 5, 2)\n",
    "    a_N = 1 / 3 * smp.Matrix([2, 2, -2])\n",
    "    return G_Q.dot(a_N)\n",
    "    ### END SOLUTION"
   ]
  },
  {
   "cell_type": "code",
   "execution_count": null,
   "id": "b46709af-be32-490a-b349-2de7292e0d15",
   "metadata": {
    "nbgrader": {
     "grade": true,
     "grade_id": "correct_activity_3_2",
     "locked": true,
     "points": 1,
     "schema_version": 3,
     "solution": false,
     "task": false
    }
   },
   "outputs": [],
   "source": [
    "# ห้ามแก้ไข code ใน cell นี้โดยเด็ดขาด\n",
    "assert -5.334 <= G_N() <= -5.333"
   ]
  },
  {
   "cell_type": "markdown",
   "id": "6475ab02-7177-4480-9ad7-9c10f07f38cd",
   "metadata": {},
   "source": [
    "3.3 จงหามุม $\\mathbf{\\theta}$ ระหว่างเวคเตอร์ $\\mathbf{G}(\\mathbf{r_Q})$ และ $\\mathbf{a_N}$ (ตอบในหน่วยองศา)\n",
    "(1 คะแนน)\n",
    "\n",
    "Hint: ในการคำนวณค่า arccos เราสามารถใช้ฟังก์ชัน math.acos() และใช้ค่า $\\pi$ จาก math.pi"
   ]
  },
  {
   "cell_type": "code",
   "execution_count": null,
   "id": "ea51e796-408a-4205-968c-4711311158aa",
   "metadata": {
    "nbgrader": {
     "grade": false,
     "grade_id": "activity_3_3",
     "locked": false,
     "schema_version": 3,
     "solution": true,
     "task": false
    }
   },
   "outputs": [],
   "source": [
    "import math\n",
    "# ใช้ np.arccos() ในการคำนวณค่า arc cosine\n",
    "def angle():\n",
    "    ### BEGIN SOLUTION\n",
    "    G_QdotA_N = G_N()\n",
    "    G_Q = G(4, 5, 2)\n",
    "    theta = math.acos(G_QdotA_N / G_Q.norm()) * 180.0 / math.pi\n",
    "    return theta\n",
    "    ### END SOLUTION"
   ]
  },
  {
   "cell_type": "code",
   "execution_count": null,
   "id": "d7707117-5d28-4402-a764-cac6ccefb127",
   "metadata": {
    "nbgrader": {
     "grade": true,
     "grade_id": "correct_activity_3_3",
     "locked": true,
     "points": 1,
     "schema_version": 3,
     "solution": false,
     "task": false
    }
   },
   "outputs": [],
   "source": [
    "# ห้ามแก้ไข code ใน cell นี้โดยเด็ดขาด\n",
    "assert 117.434 <= angle() <= 117.435"
   ]
  }
 ],
 "metadata": {
  "kernelspec": {
   "display_name": "Python 3 (ipykernel)",
   "language": "python",
   "name": "python3"
  },
  "language_info": {
   "codemirror_mode": {
    "name": "ipython",
    "version": 3
   },
   "file_extension": ".py",
   "mimetype": "text/x-python",
   "name": "python",
   "nbconvert_exporter": "python",
   "pygments_lexer": "ipython3",
   "version": "3.11.7"
  }
 },
 "nbformat": 4,
 "nbformat_minor": 5
}
