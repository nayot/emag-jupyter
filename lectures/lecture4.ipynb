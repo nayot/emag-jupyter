{
 "cells": [
  {
   "cell_type": "markdown",
   "id": "2d3df552-cc77-47b8-93ee-b4668a1e7934",
   "metadata": {
    "slideshow": {
     "slide_type": ""
    },
    "tags": []
   },
   "source": [
    "![](https://raw.githubusercontent.com/nayot/emag-jupyter/refs/heads/main/pics/lecture_banner.webp)\n",
    "# LECTURE 04 E-Field due to More Complicated Charges\n",
    "\n",
    "# 514336 Engineering Electromagnetic Field"
   ]
  },
  {
   "cell_type": "markdown",
   "id": "61523f21-d2b9-42e4-9920-e04be57b681c",
   "metadata": {
    "editable": true,
    "slideshow": {
     "slide_type": ""
    },
    "tags": []
   },
   "source": [
    "## ขนาดของสนามไฟฟ้าเนื่องจากประจุแบบจุด\n",
    "\n",
    "จากสนามไฟฟ้า เนื่องจากประจุแบบจุด ณ จุดใด ๆ $\\mathbf{r}$ ที่วางอยู่ที่ $\\mathbf{r'}$\n",
    "\n",
    "$$\\mathbf{E(r)}=\\frac{Q}{4\\pi\\epsilon_0}\\frac{\\mathbf{r-r'}}{|\\mathbf{r-r'}|^3}\\qquad\\mathrm{V/m}$$\n",
    "\n",
    "หากประจุดังกล่าววางอยู่ที่จุด origin จะได้ว่า\n",
    "$$\\mathbf{E(r)}=\\frac{Q}{4\\pi\\epsilon_0 r^2}\\mathbf{a}_r$$\n",
    "\n",
    "และ\n",
    "$$E(\\mathbf{r})=|\\mathbf{E(r)}|=\\frac{Q}{4\\pi\\epsilon_0 r^2}\\mathbf{a}_r$$\n",
    "\n",
    "\n",
    "เมื่อ $\\mathbf{r}$ คือ เวคเตอร์ตำแหน่งที่ชี้ไปยังจุดที่สนใจหรือจุดสังเกต $r$ คือระยะระหว่างจุดที่สนใจกับจุด origin และ $\\mathbf{a}_r$ คือ Unit Vector ที่แสดงทิศทางของสนามไฟฟ้า ณ จุดที่สนใจ\n",
    "\n",
    "**ตัวอย่าง** พล็อตขนาดของสนามไฟฟ้าเนื่องจากประจุ $Q=1~\\mu\\mathrm{C}$ ที่วางอยู่ที่จุดกำเนิด เทียบกับระยะทาง $r$"
   ]
  },
  {
   "cell_type": "code",
   "execution_count": null,
   "id": "ac23f1ea-c108-485b-9857-2e125e5e7791",
   "metadata": {
    "editable": true,
    "slideshow": {
     "slide_type": ""
    },
    "tags": []
   },
   "outputs": [],
   "source": [
    "# Numerical Function E(r)\n",
    "import numpy as np\n",
    "import sympy as smp\n",
    "from scipy.constants import pi, epsilon_0\n"
   ]
  },
  {
   "cell_type": "code",
   "execution_count": null,
   "id": "f38b0838-b800-4682-84e1-db37082a6ebd",
   "metadata": {
    "editable": true,
    "slideshow": {
     "slide_type": ""
    },
    "tags": []
   },
   "outputs": [],
   "source": [
    "# กำหนดตัวแปรต้น\n",
    "x, y = smp.symbols('x y', real=True)"
   ]
  },
  {
   "cell_type": "code",
   "execution_count": null,
   "id": "11443b76-98fb-4c60-a604-0816bdf568d1",
   "metadata": {
    "nbgrader": {
     "grade": false,
     "grade_id": "example_1",
     "locked": false,
     "schema_version": 3,
     "solution": true,
     "task": false
    }
   },
   "outputs": [],
   "source": [
    "# vector ตำแหน่ง/ขจัด\n",
    "### BEGIN SOLUTIONS\n",
    "r = smp.Matrix([x, y])\n",
    "rp = smp.Matrix([0, 0])\n",
    "R = r - rp\n",
    "\n",
    "# ขนาดประจุ\n",
    "Q = 1e-6\n",
    "\n",
    "# สนามไฟฟ้า\n",
    "E = Q / (4 * pi * epsilon_0) * R / R.norm()**3\n",
    "E\n",
    "### END SOLUTIONS"
   ]
  },
  {
   "cell_type": "code",
   "execution_count": null,
   "id": "4285c514-aed8-40b2-926a-d71ec9747017",
   "metadata": {
    "nbgrader": {
     "grade": false,
     "grade_id": "example_2",
     "locked": false,
     "schema_version": 3,
     "solution": true,
     "task": false
    }
   },
   "outputs": [],
   "source": [
    "# Lambdify\n",
    "### BEGIN SOLUTIONS\n",
    "Ex = smp.lambdify([x, y], E[0])\n",
    "Ey = smp.lambdify([x, y], E[1])\n",
    "\n",
    "def E_Q(x, y):\n",
    "    return np.array([\n",
    "        Ex(x, y), \n",
    "        Ey(x, y)\n",
    "    ])\n",
    "### END SOLUTIONS"
   ]
  },
  {
   "cell_type": "code",
   "execution_count": null,
   "id": "c51eff28-3a99-48a9-ba37-e4c43274be05",
   "metadata": {
    "nbgrader": {
     "grade": false,
     "grade_id": "example_3",
     "locked": false,
     "schema_version": 3,
     "solution": true,
     "task": false
    }
   },
   "outputs": [],
   "source": [
    "# field plot\n",
    "### BEGIN SOLUTIONS\n",
    "from libemag.plots import field_plot\n",
    "\n",
    "field_plot(E_Q, contour=True)\n",
    "### END SOLUTIONS"
   ]
  },
  {
   "cell_type": "markdown",
   "id": "270711e6-1fcf-4740-9546-9258ba41f1a3",
   "metadata": {},
   "source": [
    "**พล็อตขนาดของสนามไฟฟ้าเทียบกับระยะทาง $x$**\n",
    "\n",
    "ให้ $y=0$ พล็อต $|\\mathbf{E}(x)|$"
   ]
  },
  {
   "cell_type": "code",
   "execution_count": null,
   "id": "d35b255c-26a9-440b-8b45-044dc555223c",
   "metadata": {
    "editable": true,
    "slideshow": {
     "slide_type": ""
    },
    "tags": []
   },
   "outputs": [],
   "source": [
    "import numpy as np\n",
    "import matplotlib.pyplot as plt\n",
    "import scienceplots\n",
    "plt.style.use(['notebook', 'grid', 'science'])"
   ]
  },
  {
   "cell_type": "code",
   "execution_count": null,
   "id": "a67ce367-13a0-409d-a641-8b2612e9e4fb",
   "metadata": {
    "nbgrader": {
     "grade": false,
     "grade_id": "example_4",
     "locked": false,
     "schema_version": 3,
     "solution": true,
     "task": false
    }
   },
   "outputs": [],
   "source": [
    "# กำหนด range ของ x\n",
    "### BEGIN SOLUTIONS\n",
    "N = 100\n",
    "x = np.linspace(-10, 10, N)\n",
    "y = np.zeros(N)\n",
    "\n",
    "# คำนวณสนามไฟฟ้า\n",
    "E_field = E_Q(x, y)\n",
    "\n",
    "### Transpose E_field เพื่อให้ได้ (x, y)\n",
    "E_T = E_field.T\n",
    "\n",
    "# หา norm บน axis=1 (along the row)\n",
    "E_N = np.linalg.norm(E_T, axis=1)\n",
    "### END SOLUTIONS"
   ]
  },
  {
   "cell_type": "code",
   "execution_count": null,
   "id": "bb8cee5e-8894-48a0-93ec-2f1296a7d9a9",
   "metadata": {
    "nbgrader": {
     "grade": false,
     "grade_id": "example_5",
     "locked": false,
     "schema_version": 3,
     "solution": true,
     "task": false
    }
   },
   "outputs": [],
   "source": [
    "# Plot\n",
    "### BEGIN SOLUTIONS\n",
    "plt.figure(figsize=(8, 6))\n",
    "plt.plot(x, E_N)\n",
    "plt.ylim([0, 10e3])\n",
    "plt.xlabel('$x$')\n",
    "plt.ylabel('$|\\mathbf{E}(x)|$')\n",
    "plt.show()\n",
    "### END SOLUTIONS"
   ]
  },
  {
   "cell_type": "markdown",
   "id": "d4a20e7a-24aa-4f2b-ad21-edeb46f6283e",
   "metadata": {},
   "source": [
    "## สนามไฟฟ้าเนื่องจากประจุแบบไดโพล\n",
    "### Activity 4.1\n",
    "ประจุขนาด $1~\\mu\\mathrm{C}$ และ $-1~\\mu\\mathrm{C}$ วางอยู่ห่างกันเป็นระยะทาง $1~\\mathrm{m}$ บนแกน $y$ ห่างจากจุด origin เท่า ๆ กัน จงปรับปรุงโปรแกรมข้างต้น เพื่อสร้างฟังก์ชันที่ return ค่าเวคเตอร์ของสนาม ณ จุดสังเกตใด ๆ (1 คะแนน)"
   ]
  },
  {
   "cell_type": "code",
   "execution_count": null,
   "id": "957e8152-cc98-46cd-beae-7be62d857e64",
   "metadata": {
    "nbgrader": {
     "grade": false,
     "grade_id": "activity_4_1",
     "locked": false,
     "schema_version": 3,
     "solution": true,
     "task": false
    }
   },
   "outputs": [],
   "source": [
    "import sympy as smp\n",
    "from scipy.constants import pi, epsilon_0\n",
    "\n",
    "def E_dipole(xv, yv):\n",
    "    ### BEGIN SOLUTIONS\n",
    "    x, y = smp.symbols('x y', real=True)\n",
    "    r = smp.Matrix([x, y])\n",
    "    rp = smp.Matrix([0, 0.5])\n",
    "    rm = smp.Matrix([0, -0.5])\n",
    "    Rp = r - rp\n",
    "    Rm = r - rm\n",
    "    E = Q / (4 * pi * epsilon_0) * Rp / Rp.norm()**3 - Q / (4 * pi * epsilon_0) * Rm / Rm.norm()**3\n",
    "\n",
    "    # lambdify\n",
    "    Ex = smp.lambdify([x, y], E[0])\n",
    "    Ey = smp.lambdify([x, y], E[1])\n",
    "\n",
    "    return np.array([Ex(xv, yv), Ey(xv, yv)])\n",
    "    ### END SOLUTIONS"
   ]
  },
  {
   "cell_type": "code",
   "execution_count": null,
   "id": "64cdfd12-6dea-4f41-a264-cf2f0482801a",
   "metadata": {
    "nbgrader": {
     "grade": true,
     "grade_id": "test_4_1",
     "locked": true,
     "points": 1,
     "schema_version": 3,
     "solution": false,
     "task": false
    }
   },
   "outputs": [],
   "source": [
    "# Testing - ห้ามแก้ไข Cell นี้โดยเด็ดขาด\n",
    "assert -50.029 <= E_dipole(5, -4)[0] <= -50.028\n",
    "assert 5.49 <= E_dipole(5, -4)[1] <= 5.50"
   ]
  },
  {
   "cell_type": "markdown",
   "id": "7fcd5a00-7452-440e-9e33-46246e5367cd",
   "metadata": {},
   "source": [
    "### Activity 4.2\n",
    "ใช้ field_plot() พล็อตสนามไฟฟ้าเนื่องจากประจุแบบไดโพลคู่นี้ (1 คะแนน)"
   ]
  },
  {
   "cell_type": "code",
   "execution_count": null,
   "id": "3fc3c53b-f442-4696-8ddf-7eecc5708b08",
   "metadata": {
    "nbgrader": {
     "grade": false,
     "grade_id": "activity_4_2",
     "locked": false,
     "schema_version": 3,
     "solution": true,
     "task": false
    }
   },
   "outputs": [],
   "source": [
    "from libemag.plots import field_plot\n",
    "import matplotlib.pyplot as plt\n",
    "\n",
    "def dipole_plot():\n",
    "    ### BEGIN SOLUTIONS\n",
    "    plt.figure(figsize=(8, 6))\n",
    "    field_plot(E_dipole, num_grids=50, streamline=True, normalising=False, contour=True)\n",
    "    \n",
    "    q_pos = np.array([[0, -0.5], [0, 0.5]])\n",
    "    plt.scatter(q_pos.T[0], q_pos.T[1], color=['b', 'r'], s=100)\n",
    "\n",
    "    plt.xlim([-5, 5])\n",
    "    plt.ylim([-5, 5])\n",
    "    \n",
    "    plt.show()\n",
    "    ### END SOLUTIONS\n",
    "    return True"
   ]
  },
  {
   "cell_type": "code",
   "execution_count": null,
   "id": "2cc1b23a-68bb-4356-83b5-58a6a06d117f",
   "metadata": {
    "nbgrader": {
     "grade": true,
     "grade_id": "test_4_2",
     "locked": true,
     "points": 1,
     "schema_version": 3,
     "solution": false,
     "task": false
    }
   },
   "outputs": [],
   "source": [
    "# Testing -- ห้ามแก้ไข Cell นี้โดยเด็ดขาด\n",
    "try:\n",
    "    assert dipole_plot()\n",
    "except:\n",
    "    raise AssertionError"
   ]
  },
  {
   "cell_type": "markdown",
   "id": "39da928e-af0c-4442-bedc-c4e846ed547c",
   "metadata": {},
   "source": [
    "## เปรียบเทียบสนามไฟฟ้าเนื่องจากประจุแบบจุดและประจุแบบไดโพล\n",
    "\n",
    "### Activity 4.3\n",
    "พล็อตขนาดของสนามไฟฟ้าเนื่องจากประจุแบบจุด เปรียบเทียบกับขนาดของสนามไฟฟ้าเนื่องจากประจุแบบไดโพล โดยกำหนดให้ $y=0$ (1 คะแนน)"
   ]
  },
  {
   "cell_type": "code",
   "execution_count": null,
   "id": "c8837273-eb15-4bec-9fd6-0dc1a2722637",
   "metadata": {
    "nbgrader": {
     "grade": false,
     "grade_id": "activity_4_3",
     "locked": false,
     "schema_version": 3,
     "solution": true,
     "task": false
    }
   },
   "outputs": [],
   "source": [
    "import matplotlib.pyplot as plt\n",
    "import scienceplots\n",
    "plt.style.use(['science', 'notebook', 'grid'])\n",
    "\n",
    "def compare_plot():\n",
    "    # กำหนด range ของ x ที่จะ plot\n",
    "    N = 100\n",
    "    x = np.linspace(-5, 5, N)\n",
    "    y = np.zeros(N)\n",
    "\n",
    "    # Initialise plot figure\n",
    "    plt.figure(figsize=(8, 6))\n",
    "    \n",
    "    ### BEGIN SOLUTIONS\n",
    "    # Plot สนามไฟฟ้าเนื่องจากประจุ Q\n",
    "    E_PC = np.linalg.norm(E_Q(x, y).T, axis=1)\n",
    "    plt.plot(x, E_PC)\n",
    "\n",
    "    # Plot สนามไฟฟ้าเนื่องจากประจุแบบไดโพล\n",
    "    E_DP = np.linalg.norm(E_dipole(x, y).T, axis=1)\n",
    "    plt.plot(x, E_DP)\n",
    "\n",
    "    # กำหนด plot scale\n",
    "    plt.ylim([0, 100e3])\n",
    "    plt.xlabel('$x~[\\mathrm{m}]$')\n",
    "    plt.ylabel('$|\\mathbf{E}(x)|~\\mathrm{[V/m]}$')\n",
    "\n",
    "    return True\n",
    "    ### END SOLUTIONS"
   ]
  },
  {
   "cell_type": "code",
   "execution_count": null,
   "id": "8126a4dc-9512-44e7-b00c-9d26c5506b26",
   "metadata": {
    "nbgrader": {
     "grade": true,
     "grade_id": "test_4_3",
     "locked": true,
     "points": 1,
     "schema_version": 3,
     "solution": false,
     "task": false
    }
   },
   "outputs": [],
   "source": [
    "# Testing - ห้ามแก้ไข Cell นี้โดยเด็ดขาด\n",
    "try:\n",
    "    assert compare_plot()\n",
    "except:\n",
    "    raise AssertionError"
   ]
  },
  {
   "cell_type": "markdown",
   "id": "be86c7aa-3a9e-49fd-943f-e5c0db35d579",
   "metadata": {},
   "source": [
    "## สนามไฟฟ้าเนื่องจากประจุแบบจุดที่วางเรียงกัน\n",
    "\n",
    "### Activity 4.4\n",
    "มีประจุขนาด $1~\\mu\\mathrm{C}$ จำนวน 11 ตัว วางเรียงห่างกันกันบนแนวแกน y ตัวละ $1~\\mathrm{m}$ โดยสมมาตรกับแกน x จงพล็อตสนามไฟฟ้าที่ประจุดังกลางแผ่ออกมา (1 คะแนน)"
   ]
  },
  {
   "cell_type": "code",
   "execution_count": null,
   "id": "3c5fee4a-7e29-4267-a235-6e66451daac1",
   "metadata": {},
   "outputs": [],
   "source": [
    "# ทดลองเขียน Code ที่นี่ก่อนสะดวกกว่า แล้วจึงนำไปบรรจุในฟังก์ชันคำตอบ\n",
    "import sympy as smp\n",
    "import numpy as np\n",
    "from libemag.plots import field_plot\n",
    "from libemag.emag_initials import pi, epsilon_0, norm\n",
    "import matplotlib.pyplot as plt\n",
    "\n",
    "import warnings\n",
    "warnings.filterwarnings(\"ignore\", category=RuntimeWarning)\n",
    "\n",
    "### YOUR CODE HERE\n"
   ]
  },
  {
   "cell_type": "code",
   "execution_count": null,
   "id": "9fb6e83a-db88-4a58-80e1-20d16509f5d0",
   "metadata": {
    "nbgrader": {
     "grade": false,
     "grade_id": "activity_4_4",
     "locked": false,
     "schema_version": 3,
     "solution": true,
     "task": false
    }
   },
   "outputs": [],
   "source": [
    "import sympy as smp\n",
    "import numpy as np\n",
    "from libemag.plots import field_plot\n",
    "from libemag.emag_initials import pi, epsilon_0, norm\n",
    "import matplotlib.pyplot as plt\n",
    "\n",
    "import warnings\n",
    "warnings.filterwarnings(\"ignore\", category=RuntimeWarning)\n",
    "\n",
    "### BEGIN SOLUTIONS\n",
    "def solution():\n",
    "    def E_Q(xp, yp, x, y):\n",
    "        Q = 1e-6\n",
    "        r = np.array([x, y])\n",
    "        rp = np.array([xp, yp])\n",
    "        R = r - rp\n",
    "        return Q / (4 * pi * epsilon_0) * R / norm(R)**3\n",
    "    \n",
    "    def E(x, y):\n",
    "        yp = np.linspace(-5, 5, 11)\n",
    "        E_field = np.array([0., 0.])\n",
    "        for yi in yp:\n",
    "            E_f = E_Q(0, yi, x, y)\n",
    "            E_field += E_f\n",
    "        return E_field\n",
    "        \n",
    "    \n",
    "    field_plot(E, num_grids=25)\n",
    "    \n",
    "    y = np.linspace(-5, 5, 11)\n",
    "    x = np.zeros(len(y))\n",
    "    plt.scatter(x, y)\n",
    "### END SOLUTIONS\n",
    "    return True"
   ]
  },
  {
   "cell_type": "code",
   "execution_count": null,
   "id": "ef6396dc-40f8-41ef-87a0-f9657ce78b09",
   "metadata": {
    "nbgrader": {
     "grade": true,
     "grade_id": "test_4_4",
     "locked": true,
     "points": 1,
     "schema_version": 3,
     "solution": false,
     "task": false
    }
   },
   "outputs": [],
   "source": [
    "# Testing - ห้ามแก้ไข Cell นี้โดยเด็ดขาด\n",
    "\n",
    "assert solution()"
   ]
  }
 ],
 "metadata": {
  "kernelspec": {
   "display_name": "Python 3 (ipykernel)",
   "language": "python",
   "name": "python3"
  },
  "language_info": {
   "codemirror_mode": {
    "name": "ipython",
    "version": 3
   },
   "file_extension": ".py",
   "mimetype": "text/x-python",
   "name": "python",
   "nbconvert_exporter": "python",
   "pygments_lexer": "ipython3",
   "version": "3.12.7"
  }
 },
 "nbformat": 4,
 "nbformat_minor": 5
}
