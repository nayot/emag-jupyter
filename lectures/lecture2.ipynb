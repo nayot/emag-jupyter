{
 "cells": [
  {
   "cell_type": "code",
   "execution_count": null,
   "id": "a87fefd0-eb5e-4569-81f2-83d3c736d10e",
   "metadata": {},
   "outputs": [],
   "source": []
  },
  {
   "cell_type": "markdown",
   "id": "d3737586-ee2f-4945-9b76-5a0db2dd2398",
   "metadata": {
    "nbgrader": {
     "grade": false,
     "grade_id": "cell-23e872fd4876ff62",
     "locked": true,
     "schema_version": 3,
     "solution": false,
     "task": false
    }
   },
   "source": [
    "![](https://raw.githubusercontent.com/nayot/emag-jupyter/refs/heads/main/pics/lecture_banner.webp)\n",
    "# LECTURE 01 Vector Analysis\n",
    "\n",
    "# 514336 Engineering Electromagnetic Field"
   ]
  },
  {
   "cell_type": "markdown",
   "id": "50da2c14-fca9-4a9d-824f-54b1b265c32b",
   "metadata": {},
   "source": [
    "## Chapter 1 Vector Analysis\n",
    "### 1.2 -1.3 เวคเตอร์หนึ่งหน่วยและระบบพิกัดฉาก\n",
    "ในหัวข้อนี้ เราจะใข้ Library 'sympy' เพื่อการคำนวณแบบ symbolic โดยให้นิสิตทำการ\n",
    "\n",
    "```python\n",
    "import sympy as smp\n",
    "```\n",
    "อย่างไรก็ดี หากเกิด error แสดงว่าในเครื่องคอมพิวเตอร์หรือใน Colab ของนิสิตยังไม่ได้ install library ดังกล่าว ให้ install โดยใช้คำสั่ง\n",
    "\n",
    "```python\n",
    "%pip install sympy\n",
    "```"
   ]
  },
  {
   "cell_type": "code",
   "execution_count": null,
   "id": "d96b8e66-40c7-4c58-adc4-c878c70027b2",
   "metadata": {},
   "outputs": [],
   "source": [
    "import sympy as smp"
   ]
  },
  {
   "cell_type": "markdown",
   "id": "ccc54fd2-b125-4f49-b883-1c5bc9752658",
   "metadata": {},
   "source": [
    "เวคเตอร์ $\\mathbf{A} = 2\\mathbf{a_x}-2\\mathbf{a_y}+3\\mathbf{a_z}=\\begin{bmatrix}2\\\\-2\\\\3 \\end{bmatrix}$\n",
    "```python\n",
    "smp.Matrix()\n",
    "```"
   ]
  },
  {
   "cell_type": "code",
   "execution_count": null,
   "id": "362cd485-b446-4695-9492-c076bf50e4bf",
   "metadata": {},
   "outputs": [],
   "source": []
  },
  {
   "cell_type": "markdown",
   "id": "057be5ca-dd93-45a9-b9ce-b2fcc94a8416",
   "metadata": {},
   "source": [
    "ขนาดของ vector หรือ Norm ของเวคเตอร์ หาได้โดยใช้ method norm()"
   ]
  },
  {
   "cell_type": "code",
   "execution_count": null,
   "id": "89e1ddcc-c413-477e-83aa-9eb4a182369d",
   "metadata": {},
   "outputs": [],
   "source": []
  },
  {
   "cell_type": "markdown",
   "id": "a1fec220-2201-44ed-8920-0b3027683daf",
   "metadata": {},
   "source": [
    "การคูณ vector ด้วย scalar เช่น $2\\mathbf{A}=2\\begin{bmatrix}2\\\\-2\\\\3 \\end{bmatrix}$\n",
    "\n",
    "ส่งผลอย่างไรต่อ vector นั้น?"
   ]
  },
  {
   "cell_type": "code",
   "execution_count": null,
   "id": "64705b06-3233-4556-9d4f-93aadaa9019a",
   "metadata": {},
   "outputs": [],
   "source": []
  },
  {
   "cell_type": "markdown",
   "id": "2304bb4c-ac54-47b8-979a-417650ec0d58",
   "metadata": {},
   "source": [
    "**ตัวอย่าง 1.1** จงหาเวคเตอร์หนึ่งหน่วยที่ชี้จากจุดกำเนิดไปยังจุด $G(2, -2, 1)$"
   ]
  },
  {
   "cell_type": "code",
   "execution_count": null,
   "id": "462f704b-9665-49d2-8d14-445822b3c0de",
   "metadata": {},
   "outputs": [],
   "source": []
  },
  {
   "cell_type": "markdown",
   "id": "a64a14e5-4391-44ce-b0b8-b32673109920",
   "metadata": {},
   "source": [
    "การบวก/ลบเมตริกซ์ในระบบพิกัดฉาก\n",
    "$$\\mathbf{A}=\\begin{bmatrix}2\\\\-2\\\\3\\end{bmatrix},\\quad\n",
    "\\mathbf{B}=\\begin{bmatrix}1\\\\2\\\\1\\end{bmatrix}\n",
    "$$\n",
    "\n",
    "พิจารณา\n",
    "$\\mathbf{A} + \\mathbf{B}$"
   ]
  },
  {
   "cell_type": "code",
   "execution_count": null,
   "id": "1d2528ce-3f33-4730-9944-63a4ebc7e8e3",
   "metadata": {},
   "outputs": [],
   "source": []
  },
  {
   "cell_type": "markdown",
   "id": "403dfba8-a43b-4310-bade-1069d734b66b",
   "metadata": {},
   "source": [
    "$\\mathbf{A} - \\mathbf{B}$"
   ]
  },
  {
   "cell_type": "markdown",
   "id": "082b30eb-4f68-47bb-aab6-b36e17ae8a96",
   "metadata": {},
   "source": []
  },
  {
   "cell_type": "markdown",
   "id": "1de7b54a-7953-428e-a8e1-697d4584a4ad",
   "metadata": {},
   "source": [
    "**1.5 Dot Product**\n",
    "\n",
    "$\\mathbf{A}\\cdot\\mathbf{B}$\n",
    "\n",
    "ใน Sympy ทำได้โดย A.dot(B)"
   ]
  },
  {
   "cell_type": "code",
   "execution_count": null,
   "id": "445ae412-bc5d-4dfa-8ae0-1b70c658421c",
   "metadata": {},
   "outputs": [],
   "source": []
  },
  {
   "cell_type": "markdown",
   "id": "6a8008b2-00cb-4d81-b556-cea9025c85f3",
   "metadata": {},
   "source": [
    "การ dot กับเวคเตอร์หนึ่งหน่วย เช่น $\\mathbf{A}\\cdot\\mathbf{a_x}$"
   ]
  },
  {
   "cell_type": "code",
   "execution_count": null,
   "id": "3c2e80d4-5a11-489b-921a-33411f47911a",
   "metadata": {},
   "outputs": [],
   "source": []
  },
  {
   "cell_type": "markdown",
   "id": "6d31747e-6a17-4a78-ae9c-0f29daf9e2df",
   "metadata": {},
   "source": [
    "### Activity 3\n",
    "(1 คะแนน)\n",
    "\n",
    "3.1 พิจารณาสนามเวคเตอร์ $\\mathbf{G}(x, y, z)=y\\mathbf{a_x}-2.5x\\mathbf{a_y}+3\\mathbf{a_z}$ จงเขียนฟังก์ชัน G เพื่อ return ค่าของเวคเตอร์ $\\mathbf{G}$ ณ จุด $(x, y, z)$ ใด ๆ"
   ]
  },
  {
   "cell_type": "code",
   "execution_count": null,
   "id": "ddaff623-3067-4b62-be70-a874c7bd5ae7",
   "metadata": {
    "nbgrader": {
     "grade": false,
     "grade_id": "activity_3_1",
     "locked": false,
     "schema_version": 3,
     "solution": true,
     "task": false
    }
   },
   "outputs": [],
   "source": [
    "import sympy as smp\n",
    "def G(x, y, z):\n",
    "    ### BEGIN SOLUTION\n",
    "    return smp.Matrix([y, -2.5 * x, 3])\n",
    "    ### END SOLUTION"
   ]
  },
  {
   "cell_type": "code",
   "execution_count": null,
   "id": "4fcf01e4-ab63-4b8e-add7-def51ee7ceaf",
   "metadata": {
    "nbgrader": {
     "grade": true,
     "grade_id": "correct_activity_3_1",
     "locked": true,
     "points": 1,
     "schema_version": 3,
     "solution": false,
     "task": false
    }
   },
   "outputs": [],
   "source": [
    "# ห้ามแก้ไข code ต่อไปนี้โดยเด็ดขาด\n",
    "assert 4.38 <= G(1, 2, 3).norm() <= 4.39\n",
    "assert 6.160 <= G(-2, 2, 4).norm() <= 6.165"
   ]
  },
  {
   "cell_type": "markdown",
   "id": "6ef6b0e7-6260-476e-8303-1dce92a5aabf",
   "metadata": {},
   "source": [
    "3.2 จงเขียน code เพื่อหาองค์ประกอบเชิงสเกลาร์ของเวคเตอร์ $\\mathbf{G}$ ณ จุด $\\mathbf{Q}(4, 5,2)$ ในทิศทาง $\\mathbf{a_N}=\\frac{1}{3}(2\\mathbf{a_x}+2\\mathbf{a_y}-2\\mathbf{a_z})$\n",
    "\n",
    "(1 คะแนน)"
   ]
  },
  {
   "cell_type": "code",
   "execution_count": null,
   "id": "5adcf49a-cde8-40d7-ad61-0c59a882c798",
   "metadata": {
    "nbgrader": {
     "grade": false,
     "grade_id": "activity_3_2",
     "locked": false,
     "schema_version": 3,
     "solution": true,
     "task": false
    }
   },
   "outputs": [],
   "source": [
    "def G_N():\n",
    "    ### BEGIN SOLUTION\n",
    "    G_Q = G(4, 5, 2)\n",
    "    a_N = 1 / 3 * smp.Matrix([2, 2, -2])\n",
    "    return G_Q.dot(a_N)\n",
    "    ### END SOLUTION"
   ]
  },
  {
   "cell_type": "code",
   "execution_count": null,
   "id": "b854ba3e-a99c-4f2c-b5a8-5acca48a93e2",
   "metadata": {
    "nbgrader": {
     "grade": true,
     "grade_id": "correct_activity_3_2",
     "locked": true,
     "points": 1,
     "schema_version": 3,
     "solution": false,
     "task": false
    }
   },
   "outputs": [],
   "source": [
    "# ห้ามแก้ไข code ใน cell นี้โดยเด็ดขาด\n",
    "assert -5.334 <= G_N() <= -5.333"
   ]
  },
  {
   "cell_type": "markdown",
   "id": "2f8e2b38-bd97-497a-8f76-a689833c4ae4",
   "metadata": {},
   "source": [
    "3.3 จงหามุม $\\mathbf{\\theta}$ ระหว่างเวคเตอร์ $\\mathbf{G}(\\mathbf{r_Q})$ และ $\\mathbf{a_N}$ (ตอบในหน่วยองศา)\n",
    "(1 คะแนน)\n",
    "\n",
    "Hint: ในการคำนวณค่า arccos เราสามารถใช้ฟังก์ชัน math.acos() และใช้ค่า $\\pi$ จาก math.pi"
   ]
  },
  {
   "cell_type": "code",
   "execution_count": null,
   "id": "71328eec-f82b-4d81-9c42-46609c518407",
   "metadata": {
    "nbgrader": {
     "grade": false,
     "grade_id": "activity_3_3",
     "locked": false,
     "schema_version": 3,
     "solution": true,
     "task": false
    }
   },
   "outputs": [],
   "source": [
    "import math\n",
    "# ใช้ np.arccos() ในการคำนวณค่า arc cosine\n",
    "def angle():\n",
    "    ### BEGIN SOLUTION\n",
    "    G_QdotA_N = G_N()\n",
    "    G_Q = G(4, 5, 2)\n",
    "    theta = math.acos(G_QdotA_N / G_Q.norm()) * 180.0 / math.pi\n",
    "    return theta\n",
    "    ### END SOLUTION"
   ]
  },
  {
   "cell_type": "code",
   "execution_count": null,
   "id": "f7795d24-bb38-4f09-a8ae-32c45f76380c",
   "metadata": {
    "nbgrader": {
     "grade": true,
     "grade_id": "correct_activity_3_3",
     "locked": true,
     "points": 1,
     "schema_version": 3,
     "solution": false,
     "task": false
    }
   },
   "outputs": [],
   "source": [
    "# ห้ามแก้ไข code ใน cell นี้โดยเด็ดขาด\n",
    "assert 117.434 <= angle() <= 117.435"
   ]
  },
  {
   "cell_type": "markdown",
   "id": "3e3cd812-36f8-4f2b-91de-0d66db4f2035",
   "metadata": {},
   "source": [
    "## Chapter 2 Coulomb's Law"
   ]
  },
  {
   "cell_type": "code",
   "execution_count": null,
   "id": "bca8e7de-3bca-4699-9450-48b3039e9534",
   "metadata": {},
   "outputs": [],
   "source": []
  }
 ],
 "metadata": {
  "kernelspec": {
   "display_name": "Python 3 (ipykernel)",
   "language": "python",
   "name": "python3"
  },
  "language_info": {
   "codemirror_mode": {
    "name": "ipython",
    "version": 3
   },
   "file_extension": ".py",
   "mimetype": "text/x-python",
   "name": "python",
   "nbconvert_exporter": "python",
   "pygments_lexer": "ipython3",
   "version": "3.11.7"
  }
 },
 "nbformat": 4,
 "nbformat_minor": 5
}
